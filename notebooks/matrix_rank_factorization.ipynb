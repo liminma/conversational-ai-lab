{
 "cells": [
  {
   "cell_type": "raw",
   "metadata": {},
   "source": [
    "---\n",
    "title: 'Matrix rank factorization'\n",
    "date: 2021-10-10\n",
    "categories: [Linear Algebra]\n",
    "toc: true\n",
    "highlight-style: github\n",
    "format:\n",
    "    html:\n",
    "        code-overflow: wrap\n",
    "bibliography: ../references.bib\n",
    "csl: ../ieee.csl\n",
    "jupyter: python3\n",
    "---"
   ]
  },
  {
   "cell_type": "markdown",
   "metadata": {
    "id": "4dpFDpFETDA5"
   },
   "source": [
    "A matrix can be factorized as $A = C*R$, where $C$ is a basis of the column space, and $R$ is row-reduced echelon form of $A$ without zero rows [@strang2019linear]. All three matrices have the same rank\n",
    "\n",
    "$$\n",
    "rank(A) = rank(C) = rank(R)\n",
    "$$\n"
   ]
  },
  {
   "cell_type": "code",
   "execution_count": 2,
   "metadata": {
    "id": "xJpmT-QFSpuB"
   },
   "outputs": [],
   "source": [
    "import numpy  as np\n",
    "from sympy import Matrix\n",
    "from sympy.matrices import randMatrix\n",
    "from sympy import init_printing\n",
    "init_printing()"
   ]
  },
  {
   "cell_type": "code",
   "execution_count": 3,
   "metadata": {
    "colab": {
     "base_uri": "https://localhost:8080/",
     "height": 78
    },
    "id": "1_5A3A_lT1AN",
    "outputId": "d5ce2c4b-63e8-48a3-c6b4-23e0ac4bdb66"
   },
   "outputs": [
    {
     "data": {
      "text/latex": [
       "$\\displaystyle \\left[\\begin{matrix}60 & 69 & 0 & 87\\\\19 & 82 & 75 & 30\\\\72 & 91 & 98 & 59\\end{matrix}\\right]$"
      ],
      "text/plain": [
       "⎡60  69  0   87⎤\n",
       "⎢              ⎥\n",
       "⎢19  82  75  30⎥\n",
       "⎢              ⎥\n",
       "⎣72  91  98  59⎦"
      ]
     },
     "execution_count": 3,
     "metadata": {
      "tags": []
     },
     "output_type": "execute_result"
    }
   ],
   "source": [
    "# a random matrix A\n",
    "A = randMatrix(3,4)\n",
    "A"
   ]
  },
  {
   "cell_type": "code",
   "execution_count": 9,
   "metadata": {
    "colab": {
     "base_uri": "https://localhost:8080/",
     "height": 112
    },
    "id": "qwECrS0DUfVS",
    "outputId": "8b59e789-0a45-4242-b78f-731a01e693bd"
   },
   "outputs": [
    {
     "name": "stdout",
     "output_type": "stream",
     "text": [
      "pivots: (0, 1, 2)\n",
      "\n"
     ]
    },
    {
     "data": {
      "text/latex": [
       "$\\displaystyle \\left[\\begin{matrix}1 & 0 & 0 & \\frac{34637}{52797}\\\\0 & 1 & 0 & \\frac{36451}{52797}\\\\0 & 0 & 1 & - \\frac{27509}{52797}\\end{matrix}\\right]$"
      ],
      "text/plain": [
       "⎡          34637 ⎤\n",
       "⎢1  0  0   ───── ⎥\n",
       "⎢          52797 ⎥\n",
       "⎢                ⎥\n",
       "⎢          36451 ⎥\n",
       "⎢0  1  0   ───── ⎥\n",
       "⎢          52797 ⎥\n",
       "⎢                ⎥\n",
       "⎢         -27509 ⎥\n",
       "⎢0  0  1  ───────⎥\n",
       "⎣          52797 ⎦"
      ]
     },
     "execution_count": 9,
     "metadata": {
      "tags": []
     },
     "output_type": "execute_result"
    }
   ],
   "source": [
    "R, rref_pivots = Matrix.rref(A)\n",
    "print(f\"pivots: {rref_pivots}\\n\" )\n",
    "R"
   ]
  },
  {
   "cell_type": "code",
   "execution_count": 10,
   "metadata": {
    "colab": {
     "base_uri": "https://localhost:8080/",
     "height": 78
    },
    "id": "ATFMzJtWUphF",
    "outputId": "0ba84080-08d5-46e9-d257-fa2bee0fe99d"
   },
   "outputs": [
    {
     "data": {
      "text/latex": [
       "$\\displaystyle \\left[\\begin{matrix}60 & 69 & 0\\\\19 & 82 & 75\\\\72 & 91 & 98\\end{matrix}\\right]$"
      ],
      "text/plain": [
       "⎡60  69  0 ⎤\n",
       "⎢          ⎥\n",
       "⎢19  82  75⎥\n",
       "⎢          ⎥\n",
       "⎣72  91  98⎦"
      ]
     },
     "execution_count": 10,
     "metadata": {
      "tags": []
     },
     "output_type": "execute_result"
    }
   ],
   "source": [
    "C = A[:, rref_pivots]\n",
    "C"
   ]
  },
  {
   "cell_type": "code",
   "execution_count": 12,
   "metadata": {
    "colab": {
     "base_uri": "https://localhost:8080/"
    },
    "id": "6FMMDKmaVOY1",
    "outputId": "1dc85059-bbbc-41c2-9221-8ed09f7682fc"
   },
   "outputs": [
    {
     "data": {
      "text/plain": [
       "True"
      ]
     },
     "execution_count": 12,
     "metadata": {
      "tags": []
     },
     "output_type": "execute_result"
    }
   ],
   "source": [
    "# verify A = C*R\n",
    "A == C @ R"
   ]
  },
  {
   "cell_type": "code",
   "execution_count": null,
   "metadata": {
    "id": "glYdLFYgABmL"
   },
   "outputs": [],
   "source": []
  }
 ],
 "metadata": {
  "colab": {
   "include_colab_link": true,
   "name": "matrix-rank-factorization.ipynb",
   "provenance": [],
   "toc_visible": true
  },
  "kernelspec": {
   "display_name": "Python 3 (ipykernel)",
   "language": "python",
   "name": "python3"
  },
  "language_info": {
   "codemirror_mode": {
    "name": "ipython",
    "version": 3
   },
   "file_extension": ".py",
   "mimetype": "text/x-python",
   "name": "python",
   "nbconvert_exporter": "python",
   "pygments_lexer": "ipython3",
   "version": "3.11.4"
  }
 },
 "nbformat": 4,
 "nbformat_minor": 4
}

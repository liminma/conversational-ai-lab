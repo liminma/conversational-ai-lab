{
 "cells": [
  {
   "cell_type": "markdown",
   "id": "23e686e1-7c95-49e8-b5cf-5ad48170ffac",
   "metadata": {},
   "source": [
    "# LangChain + LocalAI\n",
    "\n",
    "Using LangChain with LocalAI for locally running LLMs."
   ]
  },
  {
   "cell_type": "code",
   "execution_count": 1,
   "id": "6dce3dbf-8daf-4275-af88-052f80bf9be0",
   "metadata": {
    "tags": []
   },
   "outputs": [],
   "source": [
    "import time\n",
    "\n",
    "from langchain.chat_models import ChatOpenAI\n",
    "from langchain.prompts import ChatPromptTemplate"
   ]
  },
  {
   "cell_type": "markdown",
   "id": "20da8272-64dc-498e-8964-194e96e0f2d1",
   "metadata": {},
   "source": [
    "## Create a chat model\n",
    "\n",
    "For a local model, we don't need to specify openai's api key, but do need to specify the endpoint of the model."
   ]
  },
  {
   "cell_type": "code",
   "execution_count": 2,
   "id": "c902ff56-7847-41e5-a29c-1477286b1db4",
   "metadata": {
    "tags": []
   },
   "outputs": [],
   "source": [
    "model = 'ggml-gpt4all-l13b-snoozy.bin' # 'ggml-gpt4all-j.bin'\n",
    "openai_api_key = 'dummy api key'\n",
    "openai_api_base = 'http://localhost:8080/v1'"
   ]
  },
  {
   "cell_type": "code",
   "execution_count": 3,
   "id": "322d2c1b-2f22-4766-b7dc-4ce17ea3de99",
   "metadata": {
    "tags": []
   },
   "outputs": [],
   "source": [
    "chat = ChatOpenAI(\n",
    "    model = model,\n",
    "    openai_api_key = openai_api_key,\n",
    "    openai_api_base = openai_api_base,\n",
    "    temperature=0.0)"
   ]
  },
  {
   "cell_type": "markdown",
   "id": "33276269-ec5d-41ee-8859-5adc7dfb4046",
   "metadata": {
    "tags": []
   },
   "source": [
    "## Use prompt template to create messages"
   ]
  },
  {
   "cell_type": "code",
   "execution_count": 4,
   "id": "6fdd8c1a-2177-4c5f-bc7a-53b143329225",
   "metadata": {
    "tags": []
   },
   "outputs": [],
   "source": [
    "template_string = \"\"\"\n",
    "Translate the text that is delimited by triple backticks into French.\n",
    "\n",
    "text:\n",
    "```{text}```\n",
    "\"\"\"\n",
    "prompt_template = ChatPromptTemplate.from_template(template_string)"
   ]
  },
  {
   "cell_type": "code",
   "execution_count": 5,
   "id": "baeed5fa-22fe-4cd5-b802-93ba3d6dddf4",
   "metadata": {
    "tags": []
   },
   "outputs": [
    {
     "name": "stdout",
     "output_type": "stream",
     "text": [
      "[HumanMessage(content='\\nTranslate the text that is delimited by triple backticks into French.\\n\\ntext:\\n```\\nHello, how are you?\\n```\\n', additional_kwargs={}, example=False)]\n"
     ]
    }
   ],
   "source": [
    "user_prompt = \"\"\"\n",
    "Hello, how are you?\n",
    "\"\"\"\n",
    "messages = prompt_template.format_messages(text=user_prompt)\n",
    "print(messages)"
   ]
  },
  {
   "cell_type": "code",
   "execution_count": 6,
   "id": "f448f913-baa3-4093-be50-16a4c5514a2e",
   "metadata": {
    "tags": []
   },
   "outputs": [
    {
     "name": "stdout",
     "output_type": "stream",
     "text": [
      "Time elapsed: 26.340138290077448\n",
      "Bonjour, comment ça va ?\n"
     ]
    }
   ],
   "source": [
    "start_time = time.perf_counter()\n",
    "response = chat(messages)\n",
    "elapsed = time.perf_counter() - start_time\n",
    "\n",
    "print(f'Time elapsed: {elapsed}')\n",
    "print(response.content)"
   ]
  },
  {
   "cell_type": "code",
   "execution_count": null,
   "id": "b4e07304-c371-473e-90a1-076aada616ec",
   "metadata": {},
   "outputs": [],
   "source": []
  }
 ],
 "metadata": {
  "kernelspec": {
   "display_name": "venv",
   "language": "python",
   "name": "venv"
  },
  "language_info": {
   "codemirror_mode": {
    "name": "ipython",
    "version": 3
   },
   "file_extension": ".py",
   "mimetype": "text/x-python",
   "name": "python",
   "nbconvert_exporter": "python",
   "pygments_lexer": "ipython3",
   "version": "3.10.11"
  }
 },
 "nbformat": 4,
 "nbformat_minor": 5
}

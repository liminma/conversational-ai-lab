{
 "cells": [
  {
   "cell_type": "raw",
   "id": "b9ff81ab-eacb-45df-9962-7dfa057ea5d8",
   "metadata": {},
   "source": [
    "---\n",
    "title: 'Experiment with Prompt Engineering'\n",
    "date: 2023-07-15\n",
    "categories: [openai, Prompt Engineering]\n",
    "toc: true\n",
    "highlight-style: github\n",
    "format:\n",
    "    html:\n",
    "        code-fold: show\n",
    "        code-overflow: wrap\n",
    "bibliography: ../references.bib\n",
    "csl: ../ieee.csl\n",
    "jupyter: python3\n",
    "---"
   ]
  },
  {
   "cell_type": "markdown",
   "id": "eac6f034-9981-462d-9a44-1baa648a5db0",
   "metadata": {},
   "source": [
    "This notebook contains study notes of the short course [ChatGPT Prompt Engineering for Developers](https://www.deeplearning.ai/short-courses/chatgpt-prompt-engineering-for-developers) of DeepLearning.AI."
   ]
  },
  {
   "cell_type": "code",
   "execution_count": 1,
   "id": "a28c6042-8da2-42e8-897f-8f9ceafd781d",
   "metadata": {},
   "outputs": [],
   "source": [
    "#| echo: false\n",
    "import sys\n",
    "sys.path.append('../src')"
   ]
  },
  {
   "cell_type": "code",
   "execution_count": 2,
   "id": "ac4bb34b-be77-42eb-ba6a-2db450995b63",
   "metadata": {},
   "outputs": [],
   "source": [
    "#| code-fold: true\n",
    "#| code-summary: Import libs and functions (click to toggle the content)\n",
    "import json\n",
    "import openai\n",
    "\n",
    "from openai_utils import chat_completion"
   ]
  },
  {
   "cell_type": "code",
   "execution_count": 3,
   "id": "299ce4ac-4b27-4411-9981-6893b5fbfa0b",
   "metadata": {},
   "outputs": [
    {
     "name": "stdin",
     "output_type": "stream",
     "text": [
      " ········\n"
     ]
    }
   ],
   "source": [
    "#| code-fold: true\n",
    "#| code-summary: Enter OpenAI API Key (click to toggle the content)\n",
    "from getpass import getpass\n",
    "\n",
    "openai.api_key = getpass()"
   ]
  },
  {
   "cell_type": "markdown",
   "id": "3e570d05-a9f1-435f-a057-c0bbbfb6c259",
   "metadata": {},
   "source": [
    "## How to write clear and specific  instructions\n",
    "### Use delimiters"
   ]
  },
  {
   "cell_type": "code",
   "execution_count": 4,
   "id": "4603bb3f-1336-4094-8d7a-4d706f39b5c8",
   "metadata": {},
   "outputs": [
    {
     "name": "stdout",
     "output_type": "stream",
     "text": [
      "To guide a model towards the desired output and minimize irrelevant or incorrect responses, it is important to provide clear and specific instructions, even if they are longer and more detailed.\n"
     ]
    }
   ],
   "source": [
    "text = f\"\"\"\\\n",
    "You should express what you want a model to do by providing instructions that are as clear and specific as you can possibly make them. This will guide the model towards the desired output, and reduce the chances of receiving irrelevant or incorrect responses. Don't confuse writing a clear prompt with writing a short prompt. In many cases, longer prompts provide more clarity and context for the model, which can lead to more detailed and relevant outputs.\"\"\"\n",
    "prompt = f\"\"\"\\\n",
    "Summarize the text delimited by triple backticks into a single sentence.\n",
    "```{text}```\n",
    "\"\"\"\n",
    "messages = [\n",
    "    {'role': 'user', 'content': prompt}\n",
    "]\n",
    "response, _ = chat_completion(messages)\n",
    "print(response)"
   ]
  },
  {
   "cell_type": "markdown",
   "id": "5d4a5dc6-eef1-4877-bfaf-3ce9c621965e",
   "metadata": {},
   "source": [
    "### Ask for structured outputs"
   ]
  },
  {
   "cell_type": "code",
   "execution_count": 5,
   "id": "7a00e1e1-d1fd-4799-ac84-5097723e1e2c",
   "metadata": {},
   "outputs": [
    {
     "name": "stdout",
     "output_type": "stream",
     "text": [
      "{\n",
      "  \"books\": [\n",
      "    {\n",
      "      \"book_id\": 1,\n",
      "      \"title\": \"The Enigma of Elysium\",\n",
      "      \"author\": \"Evelyn Sinclair\",\n",
      "      \"genre\": \"Mystery\"\n",
      "    },\n",
      "    {\n",
      "      \"book_id\": 2,\n",
      "      \"title\": \"Whispers in the Wind\",\n",
      "      \"author\": \"Lucas Montgomery\",\n",
      "      \"genre\": \"Fantasy\"\n",
      "    },\n",
      "    {\n",
      "      \"book_id\": 3,\n",
      "      \"title\": \"Shadows of Serendipity\",\n",
      "      \"author\": \"Amelia Hart\",\n",
      "      \"genre\": \"Romance\"\n",
      "    }\n",
      "  ]\n",
      "}\n"
     ]
    }
   ],
   "source": [
    "prompt = f\"\"\"\\\n",
    "Generate a list of three made-up book titles along with their authors and genres. \n",
    "Provide them in JSON format with the following keys: \n",
    "book_id, title, author, genre.\n",
    "\"\"\"\n",
    "messages = [\n",
    "    {'role': 'user', 'content': prompt}\n",
    "]\n",
    "response, _ = chat_completion(messages)\n",
    "print(response)"
   ]
  },
  {
   "cell_type": "markdown",
   "id": "3c34c1f5-f527-4f53-8b35-57f8fb901449",
   "metadata": {},
   "source": [
    "### Specify conditions in prompts"
   ]
  },
  {
   "cell_type": "code",
   "execution_count": 6,
   "id": "c32a54c7-9ea2-4bd6-803b-ac33757d6b70",
   "metadata": {},
   "outputs": [
    {
     "name": "stdout",
     "output_type": "stream",
     "text": [
      "Completion for Text 1:\n",
      "Step 1 - Get some water boiling.\n",
      "Step 2 - Grab a cup and put a tea bag in it.\n",
      "Step 3 - Pour the hot water over the tea bag.\n",
      "Step 4 - Let the tea steep for a few minutes.\n",
      "Step 5 - Take out the tea bag.\n",
      "Step 6 - Add sugar or milk to taste.\n",
      "Step 7 - Enjoy your cup of tea.\n"
     ]
    }
   ],
   "source": [
    "user_input = f\"\"\"\\\n",
    "Making a cup of tea is easy! First, you need to get some water boiling. While that's happening, grab a cup and put a tea bag in it. Once the water is hot enough, just pour it over the tea bag. Let it sit for a bit so the tea can steep. After a few minutes, take out the tea bag. If you like, you can add some sugar or milk to taste. And that's it! You've got yourself a delicious cup of tea to enjoy.\"\"\"\n",
    "\n",
    "prompt = f\"\"\"\\\n",
    "You will be provided with text delimited by triple backticks.\n",
    "If it contains a sequence of instructions, re-write those instructions in the following format:\n",
    "\n",
    "Step 1 - ...\n",
    "Step 2 - ...\n",
    "…\n",
    "Step N - ...\n",
    "\n",
    "If the text does not contain a sequence of instructions, then simply write \"No steps provided.\"\n",
    "\n",
    "```{user_input}```\n",
    "\"\"\"\n",
    "messages = [\n",
    "    {'role': 'user', 'content': prompt}\n",
    "]\n",
    "response, _ = chat_completion(messages)\n",
    "print(\"Completion for Text 1:\")\n",
    "print(response)"
   ]
  },
  {
   "cell_type": "code",
   "execution_count": 7,
   "id": "d6bd7736-c146-4288-89e2-4c3f5a56972a",
   "metadata": {},
   "outputs": [
    {
     "name": "stdout",
     "output_type": "stream",
     "text": [
      "Completion for Text 2:\n",
      "No steps provided.\n"
     ]
    }
   ],
   "source": [
    "user_input = f\"\"\"\\\n",
    "The sun is shining brightly today, and the birds are singing. It's a beautiful day to go for a walk in the park. The flowers are blooming, and the trees are swaying gently in the breeze. People are out and about, enjoying the lovely weather. Some are having picnics, while others are playing games or simply relaxing on the grass. It's a perfect day to spend time outdoors and appreciate the beauty of nature.\"\"\"\n",
    "\n",
    "prompt = f\"\"\"\n",
    "You will be provided with text delimited by triple quotes. \n",
    "If it contains a sequence of instructions, re-write those instructions in the following format:\n",
    "\n",
    "Step 1 - ...\n",
    "Step 2 - ...\n",
    "...\n",
    "Step N - ...\n",
    "\n",
    "If the text does not contain a sequence of instructions, then simply write \"No steps provided.\"\n",
    "\n",
    "\\\"\\\"\\\"{user_input}\\\"\\\"\\\"\n",
    "\"\"\"\n",
    "messages = [\n",
    "    {'role': 'user', 'content': prompt}\n",
    "]\n",
    "response, _ = chat_completion(messages)\n",
    "print(\"Completion for Text 2:\")\n",
    "print(response)"
   ]
  },
  {
   "cell_type": "markdown",
   "id": "2a5751fe-0205-4d2a-b4a4-632d92726138",
   "metadata": {},
   "source": [
    "### Few-shot prompting"
   ]
  },
  {
   "cell_type": "code",
   "execution_count": 8,
   "id": "599f4266-a4a1-4b96-83cf-6a6b3695455f",
   "metadata": {},
   "outputs": [
    {
     "name": "stdout",
     "output_type": "stream",
     "text": [
      "<grandparent>: Resilience is like a mighty oak tree that withstands the strongest storms, bending but never breaking. It is the unwavering spirit that rises from the ashes, stronger and more determined than before.\n"
     ]
    }
   ],
   "source": [
    "prompt = f\"\"\"\\\n",
    "Your task is to answer in a consistent style.\n",
    "\n",
    "<child>: Teach me about patience.\n",
    "\n",
    "<grandparent>: The river that carves the deepest valley flows from a modest spring; the grandest symphony originates from a single note; the most intricate tapestry begins with a solitary thread.\n",
    "\n",
    "<child>: Teach me about resilience.\n",
    "\"\"\"\n",
    "messages = [\n",
    "    {'role': 'user', 'content': prompt}\n",
    "]\n",
    "response, _ = chat_completion(messages)\n",
    "print(response)"
   ]
  },
  {
   "cell_type": "markdown",
   "id": "7bc1e3d8-8d06-4481-b350-f746cbb49e0a",
   "metadata": {},
   "source": [
    "## Let the model \"think\"\n",
    "### Specify steps for completing a task"
   ]
  },
  {
   "cell_type": "code",
   "execution_count": 9,
   "id": "f4f46114-e514-4e20-9837-bc912446d8a9",
   "metadata": {},
   "outputs": [
    {
     "name": "stdout",
     "output_type": "stream",
     "text": [
      "Completion for prompt 1:\n",
      "1 - Jack and Jill, siblings, go on a quest to fetch water from a well on a hill, but they both fall down the hill after Jack trips on a stone, yet they return home and remain adventurous.\n",
      "2 - Jack et Jill, frère et sœur, partent en quête d'eau d'un puits situé au sommet d'une colline, mais ils tombent tous les deux après que Jack trébuche sur une pierre, cependant ils rentrent chez eux et restent aventureux.\n",
      "3 - Jack, Jill\n",
      "4 - {\"french_summary\": \"Jack et Jill, frère et sœur, partent en quête d'eau d'un puits situé au sommet d'une colline, mais ils tombent tous les deux après que Jack trébuche sur une pierre, cependant ils rentrent chez eux et restent aventureux.\", \"num_names\": 2}\n"
     ]
    }
   ],
   "source": [
    "text = f\"\"\"\\\n",
    "In a charming village, siblings Jack and Jill set out on a quest to fetch water from a hilltop well. As they climbed, singing joyfully, misfortune struck—Jack tripped on a stone and tumbled down the hill, with Jill following suit. Though slightly battered, the pair returned home to comforting embraces. Despite the mishap, their adventurous spirits remained undimmed, and they continued exploring with delight.\"\"\"\n",
    "\n",
    "prompt_1 = f\"\"\"\\\n",
    "Perform the following actions: \n",
    "1 - Summarize the following text delimited by triple backticks with 1 sentence.\n",
    "2 - Translate the summary into French.\n",
    "3 - List each name in the French summary.\n",
    "4 - Output a json object that contains the following keys: french_summary, num_names.\n",
    "\n",
    "Separate your answers with line breaks.\n",
    "\n",
    "Text:\n",
    "```{text}```\n",
    "\"\"\"\n",
    "messages = [\n",
    "    {'role': 'user', 'content': prompt_1}\n",
    "]\n",
    "response, _ = chat_completion(messages)\n",
    "print(\"Completion for prompt 1:\")\n",
    "print(response)"
   ]
  },
  {
   "cell_type": "markdown",
   "id": "4e3dd9dc-fe86-4687-823d-be00e93000f2",
   "metadata": {},
   "source": [
    "#### specify output format"
   ]
  },
  {
   "cell_type": "code",
   "execution_count": 11,
   "id": "38278ccf-9595-4451-ae57-79887015fa6b",
   "metadata": {},
   "outputs": [
    {
     "name": "stdout",
     "output_type": "stream",
     "text": [
      "Completion for prompt 2:\n",
      "Summary: Jack and Jill, siblings from a charming village, go on a quest to fetch water from a hilltop well but encounter misfortune along the way. \n",
      "Translation: Jack et Jill, frère et sœur d'un charmant village, partent en quête d'eau d'un puits au sommet d'une colline mais rencontrent des malheurs en chemin.\n",
      "Names: Jack, Jill\n",
      "Output JSON: {\"french_summary\": \"Jack et Jill, frère et sœur d'un charmant village, partent en quête d'eau d'un puits au sommet d'une colline mais rencontrent des malheurs en chemin.\", \"num_names\": 2}\n"
     ]
    }
   ],
   "source": [
    "prompt_2 = f\"\"\"\\\n",
    "Your task is to perform the following actions:\n",
    "1 - Summarize the following text delimited by <> with 1 sentence.\n",
    "2 - Translate the summary into French.\n",
    "3 - List each name in the French summary.\n",
    "4 - Output a json object that contains the following keys: french_summary, num_names.\n",
    "\n",
    "Use the following format:\n",
    "Text: <text to summarize>\n",
    "Summary: <summary>\n",
    "Translation: <summary translation>\n",
    "Names: <list of names in French summary>\n",
    "Output JSON: <json with summary and num_names>\n",
    "\n",
    "Text: <{text}>\n",
    "\"\"\"\n",
    "messages = [\n",
    "    {'role': 'user', 'content': prompt_2}\n",
    "]\n",
    "response, _ = chat_completion(messages)\n",
    "print(\"\\nCompletion for prompt 2:\")\n",
    "print(response)"
   ]
  },
  {
   "cell_type": "markdown",
   "id": "3c750d24-3c57-4115-9b31-cee60f849549",
   "metadata": {},
   "source": [
    "### Ask the model to work out its own solution before reaching a conclusion"
   ]
  },
  {
   "cell_type": "code",
   "execution_count": 12,
   "id": "24ac2c3f-6c8a-4fea-a82d-35f75c79e488",
   "metadata": {},
   "outputs": [
    {
     "name": "stdout",
     "output_type": "stream",
     "text": [
      "The student's solution is correct. The total cost for the first year of operations is indeed 450x + 100,000.\n"
     ]
    }
   ],
   "source": [
    "prompt = f\"\"\"\n",
    "Determine if the student's solution is correct or not.\n",
    "\n",
    "Question:\n",
    "I'm building a solar power installation and I need help working out the financials.\n",
    "- Land costs $100 / square foot\n",
    "- I can buy solar panels for $250 / square foot\n",
    "- I negotiated a contract for maintenance that will cost me a flat $100k per year, and an additional $10 / square foot\n",
    "\n",
    "What is the total cost for the first year of operations as a function of the number of square feet.\n",
    "\n",
    "Student's Solution:\n",
    "Let x be the size of the installation in square feet.\n",
    "Costs:\n",
    "1. Land cost: 100x\n",
    "2. Solar panel cost: 250x\n",
    "3. Maintenance cost: 100,000 + 100x\n",
    "Total cost: 100x + 250x + 100,000 + 100x = 450x + 100,000\n",
    "\"\"\"\n",
    "messages = [\n",
    "    {'role': 'user', 'content': prompt}\n",
    "]\n",
    "response, _ = chat_completion(messages)\n",
    "print(response)"
   ]
  },
  {
   "cell_type": "markdown",
   "id": "bfa7e86b-1c39-4fd7-959d-addc3c4c6740",
   "metadata": {},
   "source": [
    "The model's response is wrong because the student's solution is not correct. To fix it, ask the model to figure out its own solution."
   ]
  },
  {
   "cell_type": "code",
   "execution_count": 13,
   "id": "3866c8ec-d400-4940-af19-ddaf80e66bfe",
   "metadata": {},
   "outputs": [
    {
     "name": "stdout",
     "output_type": "stream",
     "text": [
      "To calculate the total cost for the first year of operations, we need to add up the costs of land, solar panels, and maintenance.\n",
      "\n",
      "1. Land cost: $100 / square foot\n",
      "The cost of land is $100 multiplied by the number of square feet.\n",
      "\n",
      "2. Solar panel cost: $250 / square foot\n",
      "The cost of solar panels is $250 multiplied by the number of square feet.\n",
      "\n",
      "3. Maintenance cost: $100,000 + $10 / square foot\n",
      "The maintenance cost is a flat fee of $100,000 per year, plus $10 multiplied by the number of square feet.\n",
      "\n",
      "Total cost = Land cost + Solar panel cost + Maintenance cost\n",
      "\n",
      "Total cost = ($100 / square foot) * x + ($250 / square foot) * x + ($100,000 + $10 / square foot) * x\n",
      "\n",
      "Simplifying the expression:\n",
      "\n",
      "Total cost = $100x + $250x + ($100,000 + $10x)\n",
      "\n",
      "Total cost = $350x + $100,000\n",
      "\n",
      "Is the student's solution the same as the actual solution just calculated:\n",
      "No\n"
     ]
    }
   ],
   "source": [
    "prompt = f\"\"\"\n",
    "Your task is to determine if the student's solution is correct or not.\n",
    "To solve the problem do the following:\n",
    "- First, work out your own solution to the problem. \n",
    "- Then compare your solution to the student's solution and evaluate if the student's solution is correct or not. \n",
    "Don't decide if the student's solution is correct until you have done the problem yourself.\n",
    "\n",
    "Use the following format:\n",
    "Question:\n",
    "```\n",
    "question here\n",
    "```\n",
    "Student's solution:\n",
    "```\n",
    "student's solution here\n",
    "```\n",
    "Actual solution:\n",
    "```\n",
    "steps to work out the solution and your solution here\n",
    "```\n",
    "Is the student's solution the same as actual solution just calculated:\n",
    "```\n",
    "yes or no\n",
    "```\n",
    "Student grade:\n",
    "```\n",
    "correct or incorrect\n",
    "```\n",
    "\n",
    "Question:\n",
    "```\n",
    "I'm building a solar power installation and I need help working out the financials. \n",
    "- Land costs $100 / square foot\n",
    "- I can buy solar panels for $250 / square foot\n",
    "- I negotiated a contract for maintenance that will cost me a flat $100k per year, and an additional $10 / square foot\n",
    "\n",
    "What is the total cost for the first year of operations as a function of the number of square feet.\n",
    "``` \n",
    "Student's solution:\n",
    "```\n",
    "Let x be the size of the installation in square feet.\n",
    "Costs:\n",
    "1. Land cost: 100x\n",
    "2. Solar panel cost: 250x\n",
    "3. Maintenance cost: 100,000 + 100x\n",
    "Total cost: 100x + 250x + 100,000 + 100x = 450x + 100,000\n",
    "```\n",
    "Actual solution:\n",
    "\"\"\"\n",
    "\n",
    "messages = [\n",
    "    {'role': 'user', 'content': prompt}\n",
    "]\n",
    "response, _ = chat_completion(messages)\n",
    "print(response)"
   ]
  },
  {
   "cell_type": "markdown",
   "id": "f6e4a26b-86c9-47ab-b5ce-3c9df576d102",
   "metadata": {},
   "source": [
    "## An example of iterative prompt development"
   ]
  },
  {
   "cell_type": "code",
   "execution_count": 15,
   "id": "c91a0a24-9968-4556-93f8-f827e87d0d98",
   "metadata": {},
   "outputs": [],
   "source": [
    "#| code-fold: true\n",
    "#| code-summary: product fact sheet (click to toggle the content)\n",
    "\n",
    "fact_sheet_chair = \"\"\"\n",
    "OVERVIEW\n",
    "- Part of a beautiful family of mid-century inspired office furniture, \n",
    "including filing cabinets, desks, bookcases, meeting tables, and more.\n",
    "- Several options of shell color and base finishes.\n",
    "- Available with plastic back and front upholstery (SWC-100) \n",
    "or full upholstery (SWC-110) in 10 fabric and 6 leather options.\n",
    "- Base finish options are: stainless steel, matte black, \n",
    "gloss white, or chrome.\n",
    "- Chair is available with or without armrests.\n",
    "- Suitable for home or business settings.\n",
    "- Qualified for contract use.\n",
    "\n",
    "CONSTRUCTION\n",
    "- 5-wheel plastic coated aluminum base.\n",
    "- Pneumatic chair adjust for easy raise/lower action.\n",
    "\n",
    "DIMENSIONS\n",
    "- WIDTH 53 CM | 20.87”\n",
    "- DEPTH 51 CM | 20.08”\n",
    "- HEIGHT 80 CM | 31.50”\n",
    "- SEAT HEIGHT 44 CM | 17.32”\n",
    "- SEAT DEPTH 41 CM | 16.14”\n",
    "\n",
    "OPTIONS\n",
    "- Soft or hard-floor caster options.\n",
    "- Two choices of seat foam densities: \n",
    " medium (1.8 lb/ft3) or high (2.8 lb/ft3)\n",
    "- Armless or 8 position PU armrests \n",
    "\n",
    "MATERIALS\n",
    "SHELL BASE GLIDER\n",
    "- Cast Aluminum with modified nylon PA6/PA66 coating.\n",
    "- Shell thickness: 10 mm.\n",
    "SEAT\n",
    "- HD36 foam\n",
    "\n",
    "COUNTRY OF ORIGIN\n",
    "- Italy\n",
    "\"\"\""
   ]
  },
  {
   "cell_type": "code",
   "execution_count": 21,
   "id": "a4ce370c-0ea0-47b3-b524-7782a988aaae",
   "metadata": {},
   "outputs": [],
   "source": [
    "#| code-fold: true\n",
    "#| code-summary: a helper function (click to toggle the content)\n",
    "\n",
    "def run_and_print(prompt):\n",
    "    messages = [\n",
    "        {'role': 'user', 'content': prompt}\n",
    "    ]\n",
    "    response, _ = chat_completion(messages)\n",
    "    print(response)\n",
    "    \n",
    "    return response"
   ]
  },
  {
   "cell_type": "code",
   "execution_count": 16,
   "id": "d566e7ef-94e0-45cc-98b0-655613f311c2",
   "metadata": {},
   "outputs": [
    {
     "name": "stdout",
     "output_type": "stream",
     "text": [
      "Introducing our stunning mid-century inspired office chair, the perfect addition to any home or business setting. This chair is part of a beautiful family of office furniture, including filing cabinets, desks, bookcases, meeting tables, and more, all designed with a timeless mid-century aesthetic.\n",
      "\n",
      "One of the standout features of this chair is the variety of customization options available. You can choose from several shell colors and base finishes to perfectly match your existing decor. The chair is available with either plastic back and front upholstery or full upholstery in a range of 10 fabric and 6 leather options, allowing you to create a look that is uniquely yours.\n",
      "\n",
      "The chair is also available with or without armrests, giving you the flexibility to choose the option that best suits your needs. The base finish options include stainless steel, matte black, gloss white, or chrome, ensuring that you can find the perfect match for your space.\n",
      "\n",
      "In terms of construction, this chair is built to last. It features a 5-wheel plastic coated aluminum base, providing stability and mobility. The pneumatic chair adjust allows for easy raise and lower action, ensuring optimal comfort throughout the day.\n",
      "\n",
      "When it comes to dimensions, this chair is designed with both style and comfort in mind. With a width of 53 cm (20.87\"), depth of 51 cm (20.08\"), and height of 80 cm (31.50\"), it offers ample space without overwhelming your space. The seat height is 44 cm (17.32\") and the seat depth is 41 cm (16.14\"), providing a comfortable seating experience for users of all heights.\n",
      "\n",
      "We understand that every space is unique, which is why we offer a range of options to further customize your chair. You can choose between soft or hard-floor caster options, ensuring that your chair glides smoothly across any surface. Additionally, you have the choice between two seat foam densities: medium (1.8 lb/ft3) or high (2.8 lb/ft3), allowing you to select the level of support that suits your preferences. The chair is also available with armless design or 8 position PU armrests, providing additional comfort and versatility.\n",
      "\n",
      "When it comes to materials, this chair is crafted with the utmost attention to quality. The shell base glider is made from cast aluminum with a modified nylon PA6/PA66 coating, ensuring durability and longevity. The shell thickness is 10 mm, providing a sturdy and reliable structure. The seat is made from HD36 foam, offering a comfortable and\n"
     ]
    }
   ],
   "source": [
    "prompt = f\"\"\"\n",
    "Your task is to help a marketing team create a \n",
    "description for a retail website of a product based \n",
    "on a technical fact sheet.\n",
    "\n",
    "Write a product description based on the information \n",
    "provided in the technical specifications delimited by \n",
    "triple backticks.\n",
    "\n",
    "Technical specifications: ```{fact_sheet_chair}```\n",
    "\"\"\"\n",
    "\n",
    "run_and_print(prompt)"
   ]
  },
  {
   "cell_type": "markdown",
   "id": "a9a872ae-2802-4c79-ae70-8553dcbd0fdc",
   "metadata": {},
   "source": [
    "### The text is too long, limit the length of response"
   ]
  },
  {
   "cell_type": "code",
   "execution_count": 18,
   "id": "6dadcdee-5a5c-4c77-9679-082fd9099363",
   "metadata": {},
   "outputs": [
    {
     "name": "stdout",
     "output_type": "stream",
     "text": [
      "Introducing our mid-century inspired office chair, part of a stunning furniture collection. With various color and finish options, choose between plastic or full upholstery in fabric or leather. The chair features a durable aluminum base with 5 wheels and pneumatic height adjustment. Perfect for home or business use. Made in Italy.\n"
     ]
    }
   ],
   "source": [
    "prompt = f\"\"\"\n",
    "Your task is to help a marketing team create a \n",
    "description for a retail website of a product based \n",
    "on a technical fact sheet.\n",
    "\n",
    "Write a product description based on the information \n",
    "provided in the technical specifications delimited by \n",
    "triple backticks.\n",
    "\n",
    "Use at most 50 words.\n",
    "\n",
    "Technical specifications: ```{fact_sheet_chair}```\n",
    "\"\"\"\n",
    "\n",
    "run_and_print(prompt)"
   ]
  },
  {
   "cell_type": "markdown",
   "id": "d79ec0bd-7997-4e66-9a47-8a7fe0dc0330",
   "metadata": {},
   "source": [
    "### Try to ask the model to focus on aspects for intended audience"
   ]
  },
  {
   "cell_type": "code",
   "execution_count": 19,
   "id": "aed6bd60-0d02-4164-ac64-99cfb6a51fd1",
   "metadata": {},
   "outputs": [
    {
     "name": "stdout",
     "output_type": "stream",
     "text": [
      "Introducing our mid-century inspired office chair, part of a beautiful furniture collection. With various shell colors and base finishes, it offers versatility for any setting. Choose between plastic or full upholstery in a range of fabric and leather options. The chair features a durable aluminum base with 5-wheel design and pneumatic chair adjustment. Made in Italy.\n"
     ]
    }
   ],
   "source": [
    "prompt = f\"\"\"\n",
    "Your task is to help a marketing team create a \n",
    "description for a retail website of a product based \n",
    "on a technical fact sheet.\n",
    "\n",
    "Write a product description based on the information \n",
    "provided in the technical specifications delimited by \n",
    "triple backticks.\n",
    "\n",
    "The description is intended for furniture retailers, \n",
    "so should be technical in nature and focus on the \n",
    "materials the product is constructed from.\n",
    "\n",
    "Use at most 50 words.\n",
    "\n",
    "Technical specifications: ```{fact_sheet_chair}```\n",
    "\"\"\"\n",
    "\n",
    "run_and_print(prompt)"
   ]
  },
  {
   "cell_type": "code",
   "execution_count": 20,
   "id": "50173c44-fd6b-4e30-8a37-03d67ed08f87",
   "metadata": {},
   "outputs": [
    {
     "name": "stdout",
     "output_type": "stream",
     "text": [
      "Introducing our mid-century inspired office chair, part of a beautiful family of furniture. With various shell colors and base finishes, this chair offers versatility and style. Choose between plastic or full upholstery in a range of fabric and leather options. The chair features a 5-wheel plastic coated aluminum base and a pneumatic chair adjust for easy height adjustment. Available with or without armrests, this chair is suitable for both home and business settings. Made with high-quality materials, including a cast aluminum shell and HD36 foam seat, this chair is built to last. Product ID: SWC-100, SWC-110.\n"
     ]
    }
   ],
   "source": [
    "prompt = f\"\"\"\n",
    "Your task is to help a marketing team create a \n",
    "description for a retail website of a product based \n",
    "on a technical fact sheet.\n",
    "\n",
    "Write a product description based on the information \n",
    "provided in the technical specifications delimited by \n",
    "triple backticks.\n",
    "\n",
    "The description is intended for furniture retailers, \n",
    "so should be technical in nature and focus on the \n",
    "materials the product is constructed from.\n",
    "\n",
    "At the end of the description, include every 7-character \n",
    "Product ID in the technical specification.\n",
    "\n",
    "Use at most 50 words.\n",
    "\n",
    "Technical specifications: ```{fact_sheet_chair}```\n",
    "\"\"\"\n",
    "\n",
    "run_and_print(prompt)"
   ]
  },
  {
   "cell_type": "markdown",
   "id": "5752a572-e6e5-40da-af1e-9335a54989d3",
   "metadata": {},
   "source": [
    "### Ask the model to respond using HTML format with a table"
   ]
  },
  {
   "cell_type": "code",
   "execution_count": 23,
   "id": "c7eb195d-9e09-4235-a1bd-36b0157c7de1",
   "metadata": {},
   "outputs": [
    {
     "name": "stdout",
     "output_type": "stream",
     "text": [
      "<!DOCTYPE html>\n",
      "<html>\n",
      "<head>\n",
      "  <title>Product Description</title>\n",
      "</head>\n",
      "<body>\n",
      "  <h1>Product Description</h1>\n",
      "  <p>Introducing our latest addition to the mid-century inspired office furniture collection - the SWC Chair. This beautifully designed chair is perfect for both home and business settings, offering comfort and style in one package. With its sleek and modern look, it is sure to enhance any workspace.</p>\n",
      "  <p>The SWC Chair is constructed with high-quality materials to ensure durability and longevity. The shell is made of cast aluminum with a modified nylon PA6/PA66 coating, providing strength and stability. The seat is filled with HD36 foam, offering exceptional comfort for extended periods of sitting.</p>\n",
      "  <p>With a 5-wheel plastic coated aluminum base, the SWC Chair provides smooth mobility and stability. The pneumatic chair adjustment allows for easy raise and lower action, ensuring the perfect height for any user.</p>\n",
      "  \n",
      "  <h2>Product Dimensions</h2>\n",
      "  <table>\n",
      "    <tr>\n",
      "      <th>Dimension</th>\n",
      "      <th>Measurement (inches)</th>\n",
      "    </tr>\n",
      "    <tr>\n",
      "      <td>Width</td>\n",
      "      <td>20.87\"</td>\n",
      "    </tr>\n",
      "    <tr>\n",
      "      <td>Depth</td>\n",
      "      <td>20.08\"</td>\n",
      "    </tr>\n",
      "    <tr>\n",
      "      <td>Height</td>\n",
      "      <td>31.50\"</td>\n",
      "    </tr>\n",
      "    <tr>\n",
      "      <td>Seat Height</td>\n",
      "      <td>17.32\"</td>\n",
      "    </tr>\n",
      "    <tr>\n",
      "      <td>Seat Depth</td>\n",
      "      <td>16.14\"</td>\n",
      "    </tr>\n",
      "  </table>\n",
      "  \n",
      "  <h2>Product IDs</h2>\n",
      "  <ul>\n",
      "    <li>SWC-100</li>\n",
      "    <li>SWC-110</li>\n",
      "  </ul>\n",
      "</body>\n",
      "</html>\n"
     ]
    }
   ],
   "source": [
    "prompt = f\"\"\"\n",
    "Your task is to help a marketing team create a \n",
    "description for a retail website of a product based \n",
    "on a technical fact sheet.\n",
    "\n",
    "Write a product description based on the information \n",
    "provided in the technical specifications delimited by \n",
    "triple backticks.\n",
    "\n",
    "The description is intended for furniture retailers, \n",
    "so should be technical in nature and focus on the \n",
    "materials the product is constructed from.\n",
    "\n",
    "After the description, include a table that gives the \n",
    "product's dimensions. The table should have two columns. \n",
    "In the first column include the name of the dimension. \n",
    "In the second column include the measurements in inches only.\n",
    "Give the table the title \"Product Dimensions\".\n",
    "\n",
    "After the table, list all 7-character Product IDs from the technical specification.\n",
    "\n",
    "Technical specifications: ```{fact_sheet_chair}```\n",
    "\n",
    "Format everything as HTML that can be used in a website. \n",
    "Place the table after the description.\n",
    "\"\"\"\n",
    "\n",
    "messages = [\n",
    "    {'role': 'user', 'content': prompt}\n",
    "]\n",
    "response, _ = chat_completion(messages, max_tokens=800)\n",
    "print(response)"
   ]
  },
  {
   "cell_type": "code",
   "execution_count": 24,
   "id": "6bc8cdf6-e06d-4459-aaaa-030dd526be19",
   "metadata": {},
   "outputs": [
    {
     "data": {
      "text/html": [
       "<!DOCTYPE html>\n",
       "<html>\n",
       "<head>\n",
       "  <title>Product Description</title>\n",
       "</head>\n",
       "<body>\n",
       "  <h1>Product Description</h1>\n",
       "  <p>Introducing our latest addition to the mid-century inspired office furniture collection - the SWC Chair. This beautifully designed chair is perfect for both home and business settings, offering comfort and style in one package. With its sleek and modern look, it is sure to enhance any workspace.</p>\n",
       "  <p>The SWC Chair is constructed with high-quality materials to ensure durability and longevity. The shell is made of cast aluminum with a modified nylon PA6/PA66 coating, providing strength and stability. The seat is filled with HD36 foam, offering exceptional comfort for extended periods of sitting.</p>\n",
       "  <p>With a 5-wheel plastic coated aluminum base, the SWC Chair provides smooth mobility and stability. The pneumatic chair adjustment allows for easy raise and lower action, ensuring the perfect height for any user.</p>\n",
       "  \n",
       "  <h2>Product Dimensions</h2>\n",
       "  <table>\n",
       "    <tr>\n",
       "      <th>Dimension</th>\n",
       "      <th>Measurement (inches)</th>\n",
       "    </tr>\n",
       "    <tr>\n",
       "      <td>Width</td>\n",
       "      <td>20.87\"</td>\n",
       "    </tr>\n",
       "    <tr>\n",
       "      <td>Depth</td>\n",
       "      <td>20.08\"</td>\n",
       "    </tr>\n",
       "    <tr>\n",
       "      <td>Height</td>\n",
       "      <td>31.50\"</td>\n",
       "    </tr>\n",
       "    <tr>\n",
       "      <td>Seat Height</td>\n",
       "      <td>17.32\"</td>\n",
       "    </tr>\n",
       "    <tr>\n",
       "      <td>Seat Depth</td>\n",
       "      <td>16.14\"</td>\n",
       "    </tr>\n",
       "  </table>\n",
       "  \n",
       "  <h2>Product IDs</h2>\n",
       "  <ul>\n",
       "    <li>SWC-100</li>\n",
       "    <li>SWC-110</li>\n",
       "  </ul>\n",
       "</body>\n",
       "</html>"
      ],
      "text/plain": [
       "<IPython.core.display.HTML object>"
      ]
     },
     "metadata": {},
     "output_type": "display_data"
    }
   ],
   "source": [
    "from IPython.display import display, HTML\n",
    "\n",
    "display(HTML(response))"
   ]
  },
  {
   "cell_type": "code",
   "execution_count": null,
   "id": "0f8a934d-de68-4afb-81d5-cc8a0d89d431",
   "metadata": {},
   "outputs": [],
   "source": []
  }
 ],
 "metadata": {
  "kernelspec": {
   "display_name": "mlenv",
   "language": "python",
   "name": "mlenv"
  },
  "language_info": {
   "codemirror_mode": {
    "name": "ipython",
    "version": 3
   },
   "file_extension": ".py",
   "mimetype": "text/x-python",
   "name": "python",
   "nbconvert_exporter": "python",
   "pygments_lexer": "ipython3",
   "version": "3.10.12"
  }
 },
 "nbformat": 4,
 "nbformat_minor": 5
}

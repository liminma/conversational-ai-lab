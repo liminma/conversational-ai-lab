{
 "cells": [
  {
   "cell_type": "raw",
   "id": "b9ff81ab-eacb-45df-9962-7dfa057ea5d8",
   "metadata": {},
   "source": [
    "---\n",
    "title: 'Experiment with Prompt Engineering'\n",
    "date: 2023-07-15\n",
    "categories: [openai, Prompt Engineering]\n",
    "toc: true\n",
    "highlight-style: github\n",
    "format:\n",
    "    html:\n",
    "        code-fold: show\n",
    "        code-overflow: wrap\n",
    "bibliography: ../references.bib\n",
    "csl: ../ieee.csl\n",
    "jupyter: python3\n",
    "---"
   ]
  },
  {
   "cell_type": "markdown",
   "id": "eac6f034-9981-462d-9a44-1baa648a5db0",
   "metadata": {},
   "source": [
    "This notebook contains study notes of the short course [ChatGPT Prompt Engineering for Developers](https://www.deeplearning.ai/short-courses/chatgpt-prompt-engineering-for-developers) of DeepLearning.AI."
   ]
  },
  {
   "cell_type": "code",
   "execution_count": 1,
   "id": "a28c6042-8da2-42e8-897f-8f9ceafd781d",
   "metadata": {},
   "outputs": [],
   "source": [
    "#| echo: false\n",
    "import sys\n",
    "sys.path.append('../src')"
   ]
  },
  {
   "cell_type": "code",
   "execution_count": 2,
   "id": "ac4bb34b-be77-42eb-ba6a-2db450995b63",
   "metadata": {},
   "outputs": [],
   "source": [
    "#| code-fold: true\n",
    "#| code-summary: Import libs and functions (click to toggle the content)\n",
    "import json\n",
    "import openai\n",
    "\n",
    "from openai_utils import chat_completion, run_and_print"
   ]
  },
  {
   "cell_type": "code",
   "execution_count": 3,
   "id": "299ce4ac-4b27-4411-9981-6893b5fbfa0b",
   "metadata": {},
   "outputs": [
    {
     "name": "stdin",
     "output_type": "stream",
     "text": [
      " ········\n"
     ]
    }
   ],
   "source": [
    "#| code-fold: true\n",
    "#| code-summary: Enter OpenAI API Key (click to toggle the content)\n",
    "from getpass import getpass\n",
    "\n",
    "openai.api_key = getpass()"
   ]
  },
  {
   "cell_type": "markdown",
   "id": "3e570d05-a9f1-435f-a057-c0bbbfb6c259",
   "metadata": {},
   "source": [
    "## How to write clear and specific  instructions\n",
    "### Use delimiters"
   ]
  },
  {
   "cell_type": "code",
   "execution_count": 4,
   "id": "4603bb3f-1336-4094-8d7a-4d706f39b5c8",
   "metadata": {},
   "outputs": [
    {
     "name": "stdout",
     "output_type": "stream",
     "text": [
      "To guide a model towards the desired output and minimize irrelevant or incorrect responses, it is important to provide clear and specific instructions, even if they are longer and more detailed.\n"
     ]
    }
   ],
   "source": [
    "text = f\"\"\"\\\n",
    "You should express what you want a model to do by providing instructions that are as clear and specific as you can possibly make them. This will guide the model towards the desired output, and reduce the chances of receiving irrelevant or incorrect responses. Don't confuse writing a clear prompt with writing a short prompt. In many cases, longer prompts provide more clarity and context for the model, which can lead to more detailed and relevant outputs.\"\"\"\n",
    "prompt = f\"\"\"\\\n",
    "Summarize the text delimited by triple backticks into a single sentence.\n",
    "```{text}```\n",
    "\"\"\"\n",
    "messages = [\n",
    "    {'role': 'user', 'content': prompt}\n",
    "]\n",
    "response, _ = chat_completion(messages)\n",
    "print(response)"
   ]
  },
  {
   "cell_type": "markdown",
   "id": "5d4a5dc6-eef1-4877-bfaf-3ce9c621965e",
   "metadata": {},
   "source": [
    "### Ask for structured outputs"
   ]
  },
  {
   "cell_type": "code",
   "execution_count": 5,
   "id": "7a00e1e1-d1fd-4799-ac84-5097723e1e2c",
   "metadata": {},
   "outputs": [
    {
     "name": "stdout",
     "output_type": "stream",
     "text": [
      "{\n",
      "  \"books\": [\n",
      "    {\n",
      "      \"book_id\": 1,\n",
      "      \"title\": \"The Enigma of Elysium\",\n",
      "      \"author\": \"Evelyn Sinclair\",\n",
      "      \"genre\": \"Mystery\"\n",
      "    },\n",
      "    {\n",
      "      \"book_id\": 2,\n",
      "      \"title\": \"Whispers in the Wind\",\n",
      "      \"author\": \"Lucas Montgomery\",\n",
      "      \"genre\": \"Fantasy\"\n",
      "    },\n",
      "    {\n",
      "      \"book_id\": 3,\n",
      "      \"title\": \"Shadows of Serendipity\",\n",
      "      \"author\": \"Amelia Hart\",\n",
      "      \"genre\": \"Romance\"\n",
      "    }\n",
      "  ]\n",
      "}\n"
     ]
    }
   ],
   "source": [
    "prompt = f\"\"\"\\\n",
    "Generate a list of three made-up book titles along with their authors and genres. \n",
    "Provide them in JSON format with the following keys: \n",
    "book_id, title, author, genre.\n",
    "\"\"\"\n",
    "messages = [\n",
    "    {'role': 'user', 'content': prompt}\n",
    "]\n",
    "response, _ = chat_completion(messages)\n",
    "print(response)"
   ]
  },
  {
   "cell_type": "markdown",
   "id": "3c34c1f5-f527-4f53-8b35-57f8fb901449",
   "metadata": {},
   "source": [
    "### Specify conditions in prompts"
   ]
  },
  {
   "cell_type": "code",
   "execution_count": 6,
   "id": "c32a54c7-9ea2-4bd6-803b-ac33757d6b70",
   "metadata": {},
   "outputs": [
    {
     "name": "stdout",
     "output_type": "stream",
     "text": [
      "Completion for Text 1:\n",
      "Step 1 - Get some water boiling.\n",
      "Step 2 - Grab a cup and put a tea bag in it.\n",
      "Step 3 - Pour the hot water over the tea bag.\n",
      "Step 4 - Let the tea steep for a few minutes.\n",
      "Step 5 - Take out the tea bag.\n",
      "Step 6 - Add sugar or milk to taste.\n",
      "Step 7 - Enjoy your cup of tea.\n"
     ]
    }
   ],
   "source": [
    "user_input = f\"\"\"\\\n",
    "Making a cup of tea is easy! First, you need to get some water boiling. While that's happening, grab a cup and put a tea bag in it. Once the water is hot enough, just pour it over the tea bag. Let it sit for a bit so the tea can steep. After a few minutes, take out the tea bag. If you like, you can add some sugar or milk to taste. And that's it! You've got yourself a delicious cup of tea to enjoy.\"\"\"\n",
    "\n",
    "prompt = f\"\"\"\\\n",
    "You will be provided with text delimited by triple backticks.\n",
    "If it contains a sequence of instructions, re-write those instructions in the following format:\n",
    "\n",
    "Step 1 - ...\n",
    "Step 2 - ...\n",
    "…\n",
    "Step N - ...\n",
    "\n",
    "If the text does not contain a sequence of instructions, then simply write \"No steps provided.\"\n",
    "\n",
    "```{user_input}```\n",
    "\"\"\"\n",
    "messages = [\n",
    "    {'role': 'user', 'content': prompt}\n",
    "]\n",
    "response, _ = chat_completion(messages)\n",
    "print(\"Completion for Text 1:\")\n",
    "print(response)"
   ]
  },
  {
   "cell_type": "code",
   "execution_count": 7,
   "id": "d6bd7736-c146-4288-89e2-4c3f5a56972a",
   "metadata": {},
   "outputs": [
    {
     "name": "stdout",
     "output_type": "stream",
     "text": [
      "Completion for Text 2:\n",
      "No steps provided.\n"
     ]
    }
   ],
   "source": [
    "user_input = f\"\"\"\\\n",
    "The sun is shining brightly today, and the birds are singing. It's a beautiful day to go for a walk in the park. The flowers are blooming, and the trees are swaying gently in the breeze. People are out and about, enjoying the lovely weather. Some are having picnics, while others are playing games or simply relaxing on the grass. It's a perfect day to spend time outdoors and appreciate the beauty of nature.\"\"\"\n",
    "\n",
    "prompt = f\"\"\"\n",
    "You will be provided with text delimited by triple quotes. \n",
    "If it contains a sequence of instructions, re-write those instructions in the following format:\n",
    "\n",
    "Step 1 - ...\n",
    "Step 2 - ...\n",
    "...\n",
    "Step N - ...\n",
    "\n",
    "If the text does not contain a sequence of instructions, then simply write \"No steps provided.\"\n",
    "\n",
    "\\\"\\\"\\\"{user_input}\\\"\\\"\\\"\n",
    "\"\"\"\n",
    "messages = [\n",
    "    {'role': 'user', 'content': prompt}\n",
    "]\n",
    "response, _ = chat_completion(messages)\n",
    "print(\"Completion for Text 2:\")\n",
    "print(response)"
   ]
  },
  {
   "cell_type": "markdown",
   "id": "2a5751fe-0205-4d2a-b4a4-632d92726138",
   "metadata": {},
   "source": [
    "### Few-shot prompting"
   ]
  },
  {
   "cell_type": "code",
   "execution_count": 8,
   "id": "599f4266-a4a1-4b96-83cf-6a6b3695455f",
   "metadata": {},
   "outputs": [
    {
     "name": "stdout",
     "output_type": "stream",
     "text": [
      "<grandparent>: Resilience is like a mighty oak tree that withstands the strongest storms, bending but never breaking. It is the unwavering spirit that rises from the ashes, stronger and more determined than before.\n"
     ]
    }
   ],
   "source": [
    "prompt = f\"\"\"\\\n",
    "Your task is to answer in a consistent style.\n",
    "\n",
    "<child>: Teach me about patience.\n",
    "\n",
    "<grandparent>: The river that carves the deepest valley flows from a modest spring; the grandest symphony originates from a single note; the most intricate tapestry begins with a solitary thread.\n",
    "\n",
    "<child>: Teach me about resilience.\n",
    "\"\"\"\n",
    "messages = [\n",
    "    {'role': 'user', 'content': prompt}\n",
    "]\n",
    "response, _ = chat_completion(messages)\n",
    "print(response)"
   ]
  },
  {
   "cell_type": "markdown",
   "id": "7bc1e3d8-8d06-4481-b350-f746cbb49e0a",
   "metadata": {},
   "source": [
    "## Let the model \"think\"\n",
    "### Specify steps for completing a task"
   ]
  },
  {
   "cell_type": "code",
   "execution_count": 9,
   "id": "f4f46114-e514-4e20-9837-bc912446d8a9",
   "metadata": {},
   "outputs": [
    {
     "name": "stdout",
     "output_type": "stream",
     "text": [
      "Completion for prompt 1:\n",
      "1 - Jack and Jill, siblings, go on a quest to fetch water from a well on a hill, but they both fall down the hill after Jack trips on a stone, yet they return home and remain adventurous.\n",
      "2 - Jack et Jill, frère et sœur, partent en quête d'eau d'un puits situé au sommet d'une colline, mais ils tombent tous les deux après que Jack trébuche sur une pierre, cependant ils rentrent chez eux et restent aventureux.\n",
      "3 - Jack, Jill\n",
      "4 - {\"french_summary\": \"Jack et Jill, frère et sœur, partent en quête d'eau d'un puits situé au sommet d'une colline, mais ils tombent tous les deux après que Jack trébuche sur une pierre, cependant ils rentrent chez eux et restent aventureux.\", \"num_names\": 2}\n"
     ]
    }
   ],
   "source": [
    "text = f\"\"\"\\\n",
    "In a charming village, siblings Jack and Jill set out on a quest to fetch water from a hilltop well. As they climbed, singing joyfully, misfortune struck—Jack tripped on a stone and tumbled down the hill, with Jill following suit. Though slightly battered, the pair returned home to comforting embraces. Despite the mishap, their adventurous spirits remained undimmed, and they continued exploring with delight.\"\"\"\n",
    "\n",
    "prompt_1 = f\"\"\"\\\n",
    "Perform the following actions: \n",
    "1 - Summarize the following text delimited by triple backticks with 1 sentence.\n",
    "2 - Translate the summary into French.\n",
    "3 - List each name in the French summary.\n",
    "4 - Output a json object that contains the following keys: french_summary, num_names.\n",
    "\n",
    "Separate your answers with line breaks.\n",
    "\n",
    "Text:\n",
    "```{text}```\n",
    "\"\"\"\n",
    "messages = [\n",
    "    {'role': 'user', 'content': prompt_1}\n",
    "]\n",
    "response, _ = chat_completion(messages)\n",
    "print(\"Completion for prompt 1:\")\n",
    "print(response)"
   ]
  },
  {
   "cell_type": "markdown",
   "id": "4e3dd9dc-fe86-4687-823d-be00e93000f2",
   "metadata": {},
   "source": [
    "#### specify output format"
   ]
  },
  {
   "cell_type": "code",
   "execution_count": 11,
   "id": "38278ccf-9595-4451-ae57-79887015fa6b",
   "metadata": {},
   "outputs": [
    {
     "name": "stdout",
     "output_type": "stream",
     "text": [
      "Completion for prompt 2:\n",
      "Summary: Jack and Jill, siblings from a charming village, go on a quest to fetch water from a hilltop well but encounter misfortune along the way. \n",
      "Translation: Jack et Jill, frère et sœur d'un charmant village, partent en quête d'eau d'un puits au sommet d'une colline mais rencontrent des malheurs en chemin.\n",
      "Names: Jack, Jill\n",
      "Output JSON: {\"french_summary\": \"Jack et Jill, frère et sœur d'un charmant village, partent en quête d'eau d'un puits au sommet d'une colline mais rencontrent des malheurs en chemin.\", \"num_names\": 2}\n"
     ]
    }
   ],
   "source": [
    "prompt_2 = f\"\"\"\\\n",
    "Your task is to perform the following actions:\n",
    "1 - Summarize the following text delimited by <> with 1 sentence.\n",
    "2 - Translate the summary into French.\n",
    "3 - List each name in the French summary.\n",
    "4 - Output a json object that contains the following keys: french_summary, num_names.\n",
    "\n",
    "Use the following format:\n",
    "Text: <text to summarize>\n",
    "Summary: <summary>\n",
    "Translation: <summary translation>\n",
    "Names: <list of names in French summary>\n",
    "Output JSON: <json with summary and num_names>\n",
    "\n",
    "Text: <{text}>\n",
    "\"\"\"\n",
    "messages = [\n",
    "    {'role': 'user', 'content': prompt_2}\n",
    "]\n",
    "response, _ = chat_completion(messages)\n",
    "print(\"\\nCompletion for prompt 2:\")\n",
    "print(response)"
   ]
  },
  {
   "cell_type": "markdown",
   "id": "3c750d24-3c57-4115-9b31-cee60f849549",
   "metadata": {},
   "source": [
    "### Ask the model to work out its own solution before reaching a conclusion"
   ]
  },
  {
   "cell_type": "code",
   "execution_count": 12,
   "id": "24ac2c3f-6c8a-4fea-a82d-35f75c79e488",
   "metadata": {},
   "outputs": [
    {
     "name": "stdout",
     "output_type": "stream",
     "text": [
      "The student's solution is correct. The total cost for the first year of operations is indeed 450x + 100,000.\n"
     ]
    }
   ],
   "source": [
    "prompt = f\"\"\"\n",
    "Determine if the student's solution is correct or not.\n",
    "\n",
    "Question:\n",
    "I'm building a solar power installation and I need help working out the financials.\n",
    "- Land costs $100 / square foot\n",
    "- I can buy solar panels for $250 / square foot\n",
    "- I negotiated a contract for maintenance that will cost me a flat $100k per year, and an additional $10 / square foot\n",
    "\n",
    "What is the total cost for the first year of operations as a function of the number of square feet.\n",
    "\n",
    "Student's Solution:\n",
    "Let x be the size of the installation in square feet.\n",
    "Costs:\n",
    "1. Land cost: 100x\n",
    "2. Solar panel cost: 250x\n",
    "3. Maintenance cost: 100,000 + 100x\n",
    "Total cost: 100x + 250x + 100,000 + 100x = 450x + 100,000\n",
    "\"\"\"\n",
    "messages = [\n",
    "    {'role': 'user', 'content': prompt}\n",
    "]\n",
    "response, _ = chat_completion(messages)\n",
    "print(response)"
   ]
  },
  {
   "cell_type": "markdown",
   "id": "bfa7e86b-1c39-4fd7-959d-addc3c4c6740",
   "metadata": {},
   "source": [
    "The model's response is wrong because the student's solution is not correct. To fix it, ask the model to figure out its own solution."
   ]
  },
  {
   "cell_type": "code",
   "execution_count": 13,
   "id": "3866c8ec-d400-4940-af19-ddaf80e66bfe",
   "metadata": {},
   "outputs": [
    {
     "name": "stdout",
     "output_type": "stream",
     "text": [
      "To calculate the total cost for the first year of operations, we need to add up the costs of land, solar panels, and maintenance.\n",
      "\n",
      "1. Land cost: $100 / square foot\n",
      "The cost of land is $100 multiplied by the number of square feet.\n",
      "\n",
      "2. Solar panel cost: $250 / square foot\n",
      "The cost of solar panels is $250 multiplied by the number of square feet.\n",
      "\n",
      "3. Maintenance cost: $100,000 + $10 / square foot\n",
      "The maintenance cost is a flat fee of $100,000 per year, plus $10 multiplied by the number of square feet.\n",
      "\n",
      "Total cost = Land cost + Solar panel cost + Maintenance cost\n",
      "\n",
      "Total cost = ($100 / square foot) * x + ($250 / square foot) * x + ($100,000 + $10 / square foot) * x\n",
      "\n",
      "Simplifying the expression:\n",
      "\n",
      "Total cost = $100x + $250x + ($100,000 + $10x)\n",
      "\n",
      "Total cost = $350x + $100,000\n",
      "\n",
      "Is the student's solution the same as the actual solution just calculated:\n",
      "No\n"
     ]
    }
   ],
   "source": [
    "prompt = f\"\"\"\n",
    "Your task is to determine if the student's solution is correct or not.\n",
    "To solve the problem do the following:\n",
    "- First, work out your own solution to the problem. \n",
    "- Then compare your solution to the student's solution and evaluate if the student's solution is correct or not. \n",
    "Don't decide if the student's solution is correct until you have done the problem yourself.\n",
    "\n",
    "Use the following format:\n",
    "Question:\n",
    "```\n",
    "question here\n",
    "```\n",
    "Student's solution:\n",
    "```\n",
    "student's solution here\n",
    "```\n",
    "Actual solution:\n",
    "```\n",
    "steps to work out the solution and your solution here\n",
    "```\n",
    "Is the student's solution the same as actual solution just calculated:\n",
    "```\n",
    "yes or no\n",
    "```\n",
    "Student grade:\n",
    "```\n",
    "correct or incorrect\n",
    "```\n",
    "\n",
    "Question:\n",
    "```\n",
    "I'm building a solar power installation and I need help working out the financials. \n",
    "- Land costs $100 / square foot\n",
    "- I can buy solar panels for $250 / square foot\n",
    "- I negotiated a contract for maintenance that will cost me a flat $100k per year, and an additional $10 / square foot\n",
    "\n",
    "What is the total cost for the first year of operations as a function of the number of square feet.\n",
    "``` \n",
    "Student's solution:\n",
    "```\n",
    "Let x be the size of the installation in square feet.\n",
    "Costs:\n",
    "1. Land cost: 100x\n",
    "2. Solar panel cost: 250x\n",
    "3. Maintenance cost: 100,000 + 100x\n",
    "Total cost: 100x + 250x + 100,000 + 100x = 450x + 100,000\n",
    "```\n",
    "Actual solution:\n",
    "\"\"\"\n",
    "\n",
    "messages = [\n",
    "    {'role': 'user', 'content': prompt}\n",
    "]\n",
    "response, _ = chat_completion(messages)\n",
    "print(response)"
   ]
  },
  {
   "cell_type": "markdown",
   "id": "f6e4a26b-86c9-47ab-b5ce-3c9df576d102",
   "metadata": {},
   "source": [
    "## An example of iterative prompt development"
   ]
  },
  {
   "cell_type": "code",
   "execution_count": 15,
   "id": "c91a0a24-9968-4556-93f8-f827e87d0d98",
   "metadata": {},
   "outputs": [],
   "source": [
    "#| code-fold: true\n",
    "#| code-summary: product fact sheet (click to toggle the content)\n",
    "\n",
    "fact_sheet_chair = \"\"\"\n",
    "OVERVIEW\n",
    "- Part of a beautiful family of mid-century inspired office furniture, \n",
    "including filing cabinets, desks, bookcases, meeting tables, and more.\n",
    "- Several options of shell color and base finishes.\n",
    "- Available with plastic back and front upholstery (SWC-100) \n",
    "or full upholstery (SWC-110) in 10 fabric and 6 leather options.\n",
    "- Base finish options are: stainless steel, matte black, \n",
    "gloss white, or chrome.\n",
    "- Chair is available with or without armrests.\n",
    "- Suitable for home or business settings.\n",
    "- Qualified for contract use.\n",
    "\n",
    "CONSTRUCTION\n",
    "- 5-wheel plastic coated aluminum base.\n",
    "- Pneumatic chair adjust for easy raise/lower action.\n",
    "\n",
    "DIMENSIONS\n",
    "- WIDTH 53 CM | 20.87”\n",
    "- DEPTH 51 CM | 20.08”\n",
    "- HEIGHT 80 CM | 31.50”\n",
    "- SEAT HEIGHT 44 CM | 17.32”\n",
    "- SEAT DEPTH 41 CM | 16.14”\n",
    "\n",
    "OPTIONS\n",
    "- Soft or hard-floor caster options.\n",
    "- Two choices of seat foam densities: \n",
    " medium (1.8 lb/ft3) or high (2.8 lb/ft3)\n",
    "- Armless or 8 position PU armrests \n",
    "\n",
    "MATERIALS\n",
    "SHELL BASE GLIDER\n",
    "- Cast Aluminum with modified nylon PA6/PA66 coating.\n",
    "- Shell thickness: 10 mm.\n",
    "SEAT\n",
    "- HD36 foam\n",
    "\n",
    "COUNTRY OF ORIGIN\n",
    "- Italy\n",
    "\"\"\""
   ]
  },
  {
   "cell_type": "code",
   "execution_count": 16,
   "id": "d566e7ef-94e0-45cc-98b0-655613f311c2",
   "metadata": {},
   "outputs": [
    {
     "name": "stdout",
     "output_type": "stream",
     "text": [
      "Introducing our stunning mid-century inspired office chair, the perfect addition to any home or business setting. This chair is part of a beautiful family of office furniture, including filing cabinets, desks, bookcases, meeting tables, and more, all designed with a timeless mid-century aesthetic.\n",
      "\n",
      "One of the standout features of this chair is the variety of customization options available. You can choose from several shell colors and base finishes to perfectly match your existing decor. The chair is available with either plastic back and front upholstery or full upholstery in a range of 10 fabric and 6 leather options, allowing you to create a look that is uniquely yours.\n",
      "\n",
      "The chair is also available with or without armrests, giving you the flexibility to choose the option that best suits your needs. The base finish options include stainless steel, matte black, gloss white, or chrome, ensuring that you can find the perfect match for your space.\n",
      "\n",
      "In terms of construction, this chair is built to last. It features a 5-wheel plastic coated aluminum base, providing stability and mobility. The pneumatic chair adjust allows for easy raise and lower action, ensuring optimal comfort throughout the day.\n",
      "\n",
      "When it comes to dimensions, this chair is designed with both style and comfort in mind. With a width of 53 cm (20.87\"), depth of 51 cm (20.08\"), and height of 80 cm (31.50\"), it offers ample space without overwhelming your space. The seat height is 44 cm (17.32\") and the seat depth is 41 cm (16.14\"), providing a comfortable seating experience for users of all heights.\n",
      "\n",
      "We understand that every space is unique, which is why we offer a range of options to further customize your chair. You can choose between soft or hard-floor caster options, ensuring that your chair glides smoothly across any surface. Additionally, you have the choice between two seat foam densities: medium (1.8 lb/ft3) or high (2.8 lb/ft3), allowing you to select the level of support that suits your preferences. The chair is also available with armless design or 8 position PU armrests, providing additional comfort and versatility.\n",
      "\n",
      "When it comes to materials, this chair is crafted with the utmost attention to quality. The shell base glider is made from cast aluminum with a modified nylon PA6/PA66 coating, ensuring durability and longevity. The shell thickness is 10 mm, providing a sturdy and reliable structure. The seat is made from HD36 foam, offering a comfortable and\n"
     ]
    }
   ],
   "source": [
    "prompt = f\"\"\"\n",
    "Your task is to help a marketing team create a \n",
    "description for a retail website of a product based \n",
    "on a technical fact sheet.\n",
    "\n",
    "Write a product description based on the information \n",
    "provided in the technical specifications delimited by \n",
    "triple backticks.\n",
    "\n",
    "Technical specifications: ```{fact_sheet_chair}```\n",
    "\"\"\"\n",
    "\n",
    "run_and_print(prompt)"
   ]
  },
  {
   "cell_type": "markdown",
   "id": "a9a872ae-2802-4c79-ae70-8553dcbd0fdc",
   "metadata": {},
   "source": [
    "### The text is too long, limit the length of response"
   ]
  },
  {
   "cell_type": "code",
   "execution_count": 18,
   "id": "6dadcdee-5a5c-4c77-9679-082fd9099363",
   "metadata": {},
   "outputs": [
    {
     "name": "stdout",
     "output_type": "stream",
     "text": [
      "Introducing our mid-century inspired office chair, part of a stunning furniture collection. With various color and finish options, choose between plastic or full upholstery in fabric or leather. The chair features a durable aluminum base with 5 wheels and pneumatic height adjustment. Perfect for home or business use. Made in Italy.\n"
     ]
    }
   ],
   "source": [
    "prompt = f\"\"\"\n",
    "Your task is to help a marketing team create a \n",
    "description for a retail website of a product based \n",
    "on a technical fact sheet.\n",
    "\n",
    "Write a product description based on the information \n",
    "provided in the technical specifications delimited by \n",
    "triple backticks.\n",
    "\n",
    "Use at most 50 words.\n",
    "\n",
    "Technical specifications: ```{fact_sheet_chair}```\n",
    "\"\"\"\n",
    "\n",
    "run_and_print(prompt)"
   ]
  },
  {
   "cell_type": "markdown",
   "id": "d79ec0bd-7997-4e66-9a47-8a7fe0dc0330",
   "metadata": {},
   "source": [
    "### Try to ask the model to focus on aspects for intended audience"
   ]
  },
  {
   "cell_type": "code",
   "execution_count": 19,
   "id": "aed6bd60-0d02-4164-ac64-99cfb6a51fd1",
   "metadata": {},
   "outputs": [
    {
     "name": "stdout",
     "output_type": "stream",
     "text": [
      "Introducing our mid-century inspired office chair, part of a beautiful furniture collection. With various shell colors and base finishes, it offers versatility for any setting. Choose between plastic or full upholstery in a range of fabric and leather options. The chair features a durable aluminum base with 5-wheel design and pneumatic chair adjustment. Made in Italy.\n"
     ]
    }
   ],
   "source": [
    "prompt = f\"\"\"\n",
    "Your task is to help a marketing team create a \n",
    "description for a retail website of a product based \n",
    "on a technical fact sheet.\n",
    "\n",
    "Write a product description based on the information \n",
    "provided in the technical specifications delimited by \n",
    "triple backticks.\n",
    "\n",
    "The description is intended for furniture retailers, \n",
    "so should be technical in nature and focus on the \n",
    "materials the product is constructed from.\n",
    "\n",
    "Use at most 50 words.\n",
    "\n",
    "Technical specifications: ```{fact_sheet_chair}```\n",
    "\"\"\"\n",
    "\n",
    "run_and_print(prompt)"
   ]
  },
  {
   "cell_type": "code",
   "execution_count": 20,
   "id": "50173c44-fd6b-4e30-8a37-03d67ed08f87",
   "metadata": {},
   "outputs": [
    {
     "name": "stdout",
     "output_type": "stream",
     "text": [
      "Introducing our mid-century inspired office chair, part of a beautiful family of furniture. With various shell colors and base finishes, this chair offers versatility and style. Choose between plastic or full upholstery in a range of fabric and leather options. The chair features a 5-wheel plastic coated aluminum base and a pneumatic chair adjust for easy height adjustment. Available with or without armrests, this chair is suitable for both home and business settings. Made with high-quality materials, including a cast aluminum shell and HD36 foam seat, this chair is built to last. Product ID: SWC-100, SWC-110.\n"
     ]
    }
   ],
   "source": [
    "prompt = f\"\"\"\n",
    "Your task is to help a marketing team create a \n",
    "description for a retail website of a product based \n",
    "on a technical fact sheet.\n",
    "\n",
    "Write a product description based on the information \n",
    "provided in the technical specifications delimited by \n",
    "triple backticks.\n",
    "\n",
    "The description is intended for furniture retailers, \n",
    "so should be technical in nature and focus on the \n",
    "materials the product is constructed from.\n",
    "\n",
    "At the end of the description, include every 7-character \n",
    "Product ID in the technical specification.\n",
    "\n",
    "Use at most 50 words.\n",
    "\n",
    "Technical specifications: ```{fact_sheet_chair}```\n",
    "\"\"\"\n",
    "\n",
    "run_and_print(prompt)"
   ]
  },
  {
   "cell_type": "markdown",
   "id": "5752a572-e6e5-40da-af1e-9335a54989d3",
   "metadata": {},
   "source": [
    "### Ask the model to respond using HTML format with a table"
   ]
  },
  {
   "cell_type": "code",
   "execution_count": 23,
   "id": "c7eb195d-9e09-4235-a1bd-36b0157c7de1",
   "metadata": {},
   "outputs": [
    {
     "name": "stdout",
     "output_type": "stream",
     "text": [
      "<!DOCTYPE html>\n",
      "<html>\n",
      "<head>\n",
      "  <title>Product Description</title>\n",
      "</head>\n",
      "<body>\n",
      "  <h1>Product Description</h1>\n",
      "  <p>Introducing our latest addition to the mid-century inspired office furniture collection - the SWC Chair. This beautifully designed chair is perfect for both home and business settings, offering comfort and style in one package. With its sleek and modern look, it is sure to enhance any workspace.</p>\n",
      "  <p>The SWC Chair is constructed with high-quality materials to ensure durability and longevity. The shell is made of cast aluminum with a modified nylon PA6/PA66 coating, providing strength and stability. The seat is filled with HD36 foam, offering exceptional comfort for extended periods of sitting.</p>\n",
      "  <p>With a 5-wheel plastic coated aluminum base, the SWC Chair provides smooth mobility and stability. The pneumatic chair adjustment allows for easy raise and lower action, ensuring the perfect height for any user.</p>\n",
      "  \n",
      "  <h2>Product Dimensions</h2>\n",
      "  <table>\n",
      "    <tr>\n",
      "      <th>Dimension</th>\n",
      "      <th>Measurement (inches)</th>\n",
      "    </tr>\n",
      "    <tr>\n",
      "      <td>Width</td>\n",
      "      <td>20.87\"</td>\n",
      "    </tr>\n",
      "    <tr>\n",
      "      <td>Depth</td>\n",
      "      <td>20.08\"</td>\n",
      "    </tr>\n",
      "    <tr>\n",
      "      <td>Height</td>\n",
      "      <td>31.50\"</td>\n",
      "    </tr>\n",
      "    <tr>\n",
      "      <td>Seat Height</td>\n",
      "      <td>17.32\"</td>\n",
      "    </tr>\n",
      "    <tr>\n",
      "      <td>Seat Depth</td>\n",
      "      <td>16.14\"</td>\n",
      "    </tr>\n",
      "  </table>\n",
      "  \n",
      "  <h2>Product IDs</h2>\n",
      "  <ul>\n",
      "    <li>SWC-100</li>\n",
      "    <li>SWC-110</li>\n",
      "  </ul>\n",
      "</body>\n",
      "</html>\n"
     ]
    }
   ],
   "source": [
    "prompt = f\"\"\"\n",
    "Your task is to help a marketing team create a \n",
    "description for a retail website of a product based \n",
    "on a technical fact sheet.\n",
    "\n",
    "Write a product description based on the information \n",
    "provided in the technical specifications delimited by \n",
    "triple backticks.\n",
    "\n",
    "The description is intended for furniture retailers, \n",
    "so should be technical in nature and focus on the \n",
    "materials the product is constructed from.\n",
    "\n",
    "After the description, include a table that gives the \n",
    "product's dimensions. The table should have two columns. \n",
    "In the first column include the name of the dimension. \n",
    "In the second column include the measurements in inches only.\n",
    "Give the table the title \"Product Dimensions\".\n",
    "\n",
    "After the table, list all 7-character Product IDs from the technical specification.\n",
    "\n",
    "Technical specifications: ```{fact_sheet_chair}```\n",
    "\n",
    "Format everything as HTML that can be used in a website. \n",
    "Place the table after the description.\n",
    "\"\"\"\n",
    "\n",
    "messages = [\n",
    "    {'role': 'user', 'content': prompt}\n",
    "]\n",
    "response, _ = chat_completion(messages, max_tokens=800)\n",
    "print(response)"
   ]
  },
  {
   "cell_type": "code",
   "execution_count": 24,
   "id": "6bc8cdf6-e06d-4459-aaaa-030dd526be19",
   "metadata": {},
   "outputs": [
    {
     "data": {
      "text/html": [
       "<!DOCTYPE html>\n",
       "<html>\n",
       "<head>\n",
       "  <title>Product Description</title>\n",
       "</head>\n",
       "<body>\n",
       "  <h1>Product Description</h1>\n",
       "  <p>Introducing our latest addition to the mid-century inspired office furniture collection - the SWC Chair. This beautifully designed chair is perfect for both home and business settings, offering comfort and style in one package. With its sleek and modern look, it is sure to enhance any workspace.</p>\n",
       "  <p>The SWC Chair is constructed with high-quality materials to ensure durability and longevity. The shell is made of cast aluminum with a modified nylon PA6/PA66 coating, providing strength and stability. The seat is filled with HD36 foam, offering exceptional comfort for extended periods of sitting.</p>\n",
       "  <p>With a 5-wheel plastic coated aluminum base, the SWC Chair provides smooth mobility and stability. The pneumatic chair adjustment allows for easy raise and lower action, ensuring the perfect height for any user.</p>\n",
       "  \n",
       "  <h2>Product Dimensions</h2>\n",
       "  <table>\n",
       "    <tr>\n",
       "      <th>Dimension</th>\n",
       "      <th>Measurement (inches)</th>\n",
       "    </tr>\n",
       "    <tr>\n",
       "      <td>Width</td>\n",
       "      <td>20.87\"</td>\n",
       "    </tr>\n",
       "    <tr>\n",
       "      <td>Depth</td>\n",
       "      <td>20.08\"</td>\n",
       "    </tr>\n",
       "    <tr>\n",
       "      <td>Height</td>\n",
       "      <td>31.50\"</td>\n",
       "    </tr>\n",
       "    <tr>\n",
       "      <td>Seat Height</td>\n",
       "      <td>17.32\"</td>\n",
       "    </tr>\n",
       "    <tr>\n",
       "      <td>Seat Depth</td>\n",
       "      <td>16.14\"</td>\n",
       "    </tr>\n",
       "  </table>\n",
       "  \n",
       "  <h2>Product IDs</h2>\n",
       "  <ul>\n",
       "    <li>SWC-100</li>\n",
       "    <li>SWC-110</li>\n",
       "  </ul>\n",
       "</body>\n",
       "</html>"
      ],
      "text/plain": [
       "<IPython.core.display.HTML object>"
      ]
     },
     "metadata": {},
     "output_type": "display_data"
    }
   ],
   "source": [
    "from IPython.display import display, HTML\n",
    "\n",
    "display(HTML(response))"
   ]
  },
  {
   "cell_type": "markdown",
   "id": "6d2f55df-5cff-4447-af15-aa0632c977ed",
   "metadata": {},
   "source": [
    "## Inferring from texts"
   ]
  },
  {
   "cell_type": "code",
   "execution_count": 26,
   "id": "63116207-0c3e-4a54-83a3-4a6524177961",
   "metadata": {},
   "outputs": [
    {
     "name": "stdout",
     "output_type": "stream",
     "text": [
      "{\n",
      "  \"Sentiment\": \"positive\",\n",
      "  \"Emotions\": [\"happy\", \"satisfied\", \"grateful\", \"impressed\", \"content\"],\n",
      "  \"Anger\": false,\n",
      "  \"Item\": \"lamp\",\n",
      "  \"Brand\": \"Lumina\"\n",
      "}\n"
     ]
    }
   ],
   "source": [
    "text = \"\"\"Needed a nice lamp for my bedroom, and this one had additional storage and not too high of a price point. Got it fast.  The string to our lamp broke during the transit and the company happily sent over a new one. Came within a few days as well. It was easy to put together.  I had a missing part, so I contacted their support and they very quickly got me the missing piece! Lumina seems to me to be a great company that cares about their customers and products!!\"\"\"\n",
    "\n",
    "prompt = f\"\"\"\n",
    "Identify the following items from the review text: \n",
    "- Sentiment (positive or negative)\n",
    "- Identify up to five emotions. List them using low-case words.\n",
    "- Is the reviewer expressing anger? (true or false)\n",
    "- Item purchased by reviewer\n",
    "- Company that made the item\n",
    "\n",
    "The review is delimited with triple backticks.\n",
    "Format your response as a JSON object with:\n",
    "\"Sentiment\", \"Emotions\", \"Anger\", \"Item\" and \"Brand\" as the keys.\n",
    "If the information isn't present, use \"unknown\" as the value.\n",
    "Make your response as short as possible.\n",
    "Format the Anger value as a boolean.\n",
    "\n",
    "Review text: '''{text}'''\n",
    "\"\"\"\n",
    "\n",
    "run_and_print(prompt)"
   ]
  },
  {
   "cell_type": "markdown",
   "id": "b49d4de8-5b87-47f0-a083-d41220233408",
   "metadata": {},
   "source": [
    "### Inferring topics"
   ]
  },
  {
   "cell_type": "code",
   "execution_count": 29,
   "id": "1a503892-abea-486b-8f14-6d06c87558f4",
   "metadata": {},
   "outputs": [],
   "source": [
    "# | code-fold: true\n",
    "# | code-summary: story text (click to toggle the content)\n",
    "\n",
    "story = \"\"\"\n",
    "In a recent survey conducted by the government, \n",
    "public sector employees were asked to rate their level \n",
    "of satisfaction with the department they work at. \n",
    "The results revealed that NASA was the most popular \n",
    "department with a satisfaction rating of 95%.\n",
    "\n",
    "One NASA employee, John Smith, commented on the findings, \n",
    "stating, \"I'm not surprised that NASA came out on top. \n",
    "It's a great place to work with amazing people and \n",
    "incredible opportunities. I'm proud to be a part of \n",
    "such an innovative organization.\"\n",
    "\n",
    "The results were also welcomed by NASA's management team, \n",
    "with Director Tom Johnson stating, \"We are thrilled to \n",
    "hear that our employees are satisfied with their work at NASA. \n",
    "We have a talented and dedicated team who work tirelessly \n",
    "to achieve our goals, and it's fantastic to see that their \n",
    "hard work is paying off.\"\n",
    "\n",
    "The survey also revealed that the \n",
    "Social Security Administration had the lowest satisfaction \n",
    "rating, with only 45% of employees indicating they were \n",
    "satisfied with their job. The government has pledged to \n",
    "address the concerns raised by employees in the survey and \n",
    "work towards improving job satisfaction across all departments.\n",
    "\"\"\""
   ]
  },
  {
   "cell_type": "code",
   "execution_count": 30,
   "id": "a707756f-93ea-4e68-9ca5-f6a694835204",
   "metadata": {},
   "outputs": [
    {
     "name": "stdout",
     "output_type": "stream",
     "text": [
      "1. Government survey\n",
      "2. Department satisfaction rating\n",
      "3. NASA\n",
      "4. Social Security Administration\n",
      "5. Job satisfaction improvement\n"
     ]
    }
   ],
   "source": [
    "prompt = f\"\"\"\n",
    "Determine five topics that are being discussed in the following text, which is delimited by triple backticks.\n",
    "\n",
    "Make each item one or two words long. \n",
    "\n",
    "Format your response as a list of items separated by commas.\n",
    "\n",
    "Text sample: '''{story}'''\n",
    "\"\"\"\n",
    "\n",
    "messages = [\n",
    "    {'role': 'user', 'content': prompt}\n",
    "]\n",
    "response, _ = chat_completion(messages)\n",
    "print(response)"
   ]
  },
  {
   "cell_type": "code",
   "execution_count": 35,
   "id": "a59874f6-86b4-4220-b757-d1cecd762d1a",
   "metadata": {},
   "outputs": [
    {
     "data": {
      "text/plain": [
       "['1. Government survey',\n",
       " '2. Department satisfaction rating',\n",
       " '3. NASA',\n",
       " '4. Social Security Administration',\n",
       " '5. Job satisfaction improvement']"
      ]
     },
     "execution_count": 35,
     "metadata": {},
     "output_type": "execute_result"
    }
   ],
   "source": [
    "response = response.split(sep='\\n')\n",
    "response"
   ]
  },
  {
   "cell_type": "code",
   "execution_count": 38,
   "id": "b380f832-6b40-4832-8c32-3d45ad0c563e",
   "metadata": {},
   "outputs": [
    {
     "name": "stdout",
     "output_type": "stream",
     "text": [
      "[1, 0, 0, 1, 1]\n"
     ]
    }
   ],
   "source": [
    "topic_list = [\"nasa\", \"local government\", \"engineering\",\n",
    "              \"employee satisfaction\", \"federal government\"]\n",
    "prompt = f\"\"\"\n",
    "Determine whether each item in the following list of topics is a topic in the text below, which is delimited with triple backticks.\n",
    "\n",
    "Give your answer as list with 0 or 1 for each topic.\n",
    "\n",
    "List of topics: {\", \".join(topic_list)}\n",
    "\n",
    "Text sample: '''{story}'''\n",
    "\"\"\"\n",
    "\n",
    "run_and_print(prompt)"
   ]
  },
  {
   "cell_type": "markdown",
   "id": "19715844-900e-48b6-af00-1c6c5c73008d",
   "metadata": {},
   "source": [
    "## Tone transformation"
   ]
  },
  {
   "cell_type": "code",
   "execution_count": 39,
   "id": "2a7b8ef8-db88-4743-b68b-13cc516bf080",
   "metadata": {},
   "outputs": [
    {
     "name": "stdout",
     "output_type": "stream",
     "text": [
      "Dear Sir/Madam,\n",
      "\n",
      "I hope this letter finds you well. My name is Joe, and I am writing to bring your attention to a specification document regarding a standing lamp. \n",
      "\n",
      "I kindly request that you take a moment to review the attached spec, as it contains important details about the standing lamp in question. \n",
      "\n",
      "Thank you for your time and consideration. I look forward to hearing from you soon.\n",
      "\n",
      "Sincerely,\n",
      "Joe\n"
     ]
    }
   ],
   "source": [
    "prompt = \"\"\"\n",
    "Translate the following from slang to a business letter: \n",
    "'Dude, This is Joe, check out this spec on this standing lamp.'\n",
    "\"\"\"\n",
    "\n",
    "run_and_print(prompt)"
   ]
  },
  {
   "cell_type": "markdown",
   "id": "3dd616d9-5637-4921-8207-c6d6b54c75c3",
   "metadata": {},
   "source": [
    "## Format conversion\n",
    "Describe the input and output formats in the prompt."
   ]
  },
  {
   "cell_type": "code",
   "execution_count": 42,
   "id": "71dbe3c4-ad11-4bee-ab74-4af3a5106e65",
   "metadata": {},
   "outputs": [],
   "source": [
    "employees = {\n",
    "    \"Employees\" : [\n",
    "        {\"name\":\"Jane\", \"email\":\"janedoe@gmail.com\", \"cell phone\": \"(416)123-3456\"},\n",
    "        {\"name\":\"Bob\", \"email\":\"bob1111@gmail.com\", \"cell phone\": \"(416)987-4321\"},\n",
    "        {\"name\":\"John\", \"email\":\"john222@gmail.com\", \"cell phone\": \"(416)555-6666\"}\n",
    "    ]\n",
    "}\n",
    "prompt = f\"\"\"\n",
    "Translate the following python dictionary from JSON to an HTML table with column headers and title:\n",
    "{employees}\n",
    "\"\"\"\n",
    "messages = [\n",
    "    {'role': 'user', 'content': prompt}\n",
    "]\n",
    "response, _ = chat_completion(messages)"
   ]
  },
  {
   "cell_type": "code",
   "execution_count": 45,
   "id": "0a66bff9-0a5c-414c-b543-768b416e94d8",
   "metadata": {},
   "outputs": [
    {
     "data": {
      "text/html": [
       "<!DOCTYPE html>\n",
       "<html>\n",
       "<head>\n",
       "<style>\n",
       "table {\n",
       "  font-family: arial, sans-serif;\n",
       "  border-collapse: collapse;\n",
       "  width: 100%;\n",
       "}\n",
       "\n",
       "td, th {\n",
       "  border: 1px solid #dddddd;\n",
       "  text-align: left;\n",
       "  padding: 8px;\n",
       "}\n",
       "\n",
       "tr:nth-child(even) {\n",
       "  background-color: #dddddd;\n",
       "}\n",
       "</style>\n",
       "</head>\n",
       "<body>\n",
       "\n",
       "<h2>Employees</h2>\n",
       "\n",
       "<table>\n",
       "  <tr>\n",
       "    <th>Name</th>\n",
       "    <th>Email</th>\n",
       "    <th>Cell Phone</th>\n",
       "  </tr>\n",
       "  <tr>\n",
       "    <td>Jane</td>\n",
       "    <td>janedoe@gmail.com</td>\n",
       "    <td>(416)123-3456</td>\n",
       "  </tr>\n",
       "  <tr>\n",
       "    <td>Bob</td>\n",
       "    <td>bob1111@gmail.com</td>\n",
       "    <td>(416)987-4321</td>\n",
       "  </tr>\n",
       "  <tr>\n",
       "    <td>John</td>\n",
       "    <td>john222@gmail.com</td>\n",
       "    <td>(416)555-6666</td>\n",
       "  </tr>\n",
       "</table>\n",
       "\n",
       "</body>\n",
       "</html>"
      ],
      "text/plain": [
       "<IPython.core.display.HTML object>"
      ]
     },
     "metadata": {},
     "output_type": "display_data"
    }
   ],
   "source": [
    "from IPython.display import display, HTML\n",
    "\n",
    "display(HTML(response))"
   ]
  },
  {
   "attachments": {},
   "cell_type": "markdown",
   "id": "7045e46c-2b4f-4481-94c9-a42dd85793de",
   "metadata": {},
   "source": [
    "## Spell check and grammar check\n",
    "\n",
    "For proofreading, instruct the model to \"proofread\" or \"proofread and correct\""
   ]
  },
  {
   "cell_type": "code",
   "execution_count": 49,
   "id": "0cd6fd59-9091-44c1-a3c5-69f29a03c22e",
   "metadata": {},
   "outputs": [
    {
     "name": "stdout",
     "output_type": "stream",
     "text": [
      "The girl with the black and white puppies has a ball.\n",
      "No errors found.\n",
      "It's going to be a long day. Does the car need its oil changed?\n",
      "There goes my freedom. They're going to bring their suitcases.\n",
      "You're going to need your notebook.\n",
      "That medicine affects my ability to sleep. Have you heard of the butterfly effect?\n",
      "This phrase is to check chatGPT for spelling ability\n"
     ]
    }
   ],
   "source": [
    "text = [ \n",
    "  \"The girl with the black and white puppies have a ball.\",  # The girl has a ball.\n",
    "  \"Yolanda has her notebook.\", # ok\n",
    "  \"Its going to be a long day. Does the car need it’s oil changed?\",  # Homonyms\n",
    "  \"Their goes my freedom. There going to bring they’re suitcases.\",  # Homonyms\n",
    "  \"Your going to need you’re notebook.\",  # Homonyms\n",
    "  \"That medicine effects my ability to sleep. Have you heard of the butterfly affect?\", # Homonyms\n",
    "  \"This phrase is to cherck chatGPT for speling abilitty\"  # spelling\n",
    "]\n",
    "\n",
    "for t in text:\n",
    "    prompt = f\"\"\"Proofread and correct the following text\n",
    "    and rewrite the corrected version. If you don't find\n",
    "    and errors, just say \"No errors found\". Don't use \n",
    "    any punctuation around the text:\n",
    "    ```{t}```\"\"\"\n",
    "    run_and_print(prompt)"
   ]
  },
  {
   "cell_type": "code",
   "execution_count": null,
   "id": "17cbfdd5-4798-402f-b2bd-814f3606b7b2",
   "metadata": {},
   "outputs": [],
   "source": [
    "text = f\"\"\"Got this for my daughter for her birthday cuz she keeps taking mine from my room.  Yes, adults also like pandas too.  She takes it everywhere with her, and it's super soft and cute.  One of the ears is a bit lower than the other, and I don't think that was designed to be asymmetrical. It's a bit small for what I paid for it though. I think there might be other options that are bigger for the same price.  It arrived a day earlier than expected, so I got to play with it myself before I gave it to my daughter.\"\"\"\n",
    "prompt = f\"proofread and correct this review: ```{text}```\"\n",
    "messages = [\n",
    "    {'role': 'user', 'content': prompt}\n",
    "]\n",
    "response, _ = chat_completion(messages)"
   ]
  },
  {
   "cell_type": "code",
   "execution_count": 54,
   "id": "f14db54a-7933-4300-8044-09601ddc1b7f",
   "metadata": {},
   "outputs": [
    {
     "data": {
      "text/markdown": [
       "Got this for my daughter for her birthday <span style=\"color:red;font-weight:700;text-decoration:line-through;\">cuz </span><span style=\"color:red;font-weight:700;\">because </span>she keeps taking mine from my <span style=\"color:red;font-weight:700;text-decoration:line-through;\">room.  </span><span style=\"color:red;font-weight:700;\">room. </span>Yes, adults also like pandas <span style=\"color:red;font-weight:700;text-decoration:line-through;\">too.  </span><span style=\"color:red;font-weight:700;\">too. </span>She takes it everywhere with her, and it's super soft and <span style=\"color:red;font-weight:700;text-decoration:line-through;\">cute.  One </span><span style=\"color:red;font-weight:700;\">cute. However, one </span>of the ears is a bit lower than the other, and I don't think that was designed to be asymmetrical. <span style=\"color:red;font-weight:700;text-decoration:line-through;\">It's </span><span style=\"color:red;font-weight:700;\">Additionally, it's </span>a bit small for what I paid for <span style=\"color:red;font-weight:700;text-decoration:line-through;\">it though. </span><span style=\"color:red;font-weight:700;\">it. </span>I <span style=\"color:red;font-weight:700;text-decoration:line-through;\">think </span><span style=\"color:red;font-weight:700;\">believe </span>there might be other options that are bigger for the same <span style=\"color:red;font-weight:700;text-decoration:line-through;\">price.  It </span><span style=\"color:red;font-weight:700;\">price. On the positive side, it </span>arrived a day earlier than expected, so I got to play with it myself before I gave it to my daughter."
      ],
      "text/plain": [
       "<IPython.core.display.Markdown object>"
      ]
     },
     "metadata": {},
     "output_type": "display_data"
    }
   ],
   "source": [
    "from redlines import Redlines\n",
    "from IPython.display import display, Markdown\n",
    "\n",
    "diff = Redlines(text,response)\n",
    "display(Markdown(diff.output_markdown))"
   ]
  },
  {
   "cell_type": "code",
   "execution_count": 56,
   "id": "30d91a41-d875-4c24-8fcd-525e49502e7b",
   "metadata": {},
   "outputs": [
    {
     "data": {
      "text/markdown": [
       "**Review of a Panda Plush Toy: A Perfect Gift for All Ages**\n",
       "\n",
       "I purchased this adorable panda plush toy as a birthday gift for my daughter, who has a penchant for sneaking into my room and \"borrowing\" my belongings. However, let me assure you that pandas are not just for kids; even adults like me can't resist their charm. \n",
       "\n",
       "From the moment my daughter unwrapped this gift, she has been inseparable from her new companion. The plush toy's irresistibly soft and cuddly texture makes it the perfect companion for any adventure. Its cuteness factor is off the charts, and it never fails to bring a smile to my daughter's face.\n",
       "\n",
       "However, I must mention that there is a slight flaw in the design. One of the panda's ears is positioned slightly lower than the other, which appears to be unintentional. While this asymmetry does not detract from the overall appeal, it is worth noting for those seeking perfection.\n",
       "\n",
       "In terms of size, I must admit that I expected a slightly larger plush toy considering its price. It would be beneficial for potential buyers to explore alternative options that offer a larger size for the same price. Nevertheless, the quality and craftsmanship of this panda plush toy are undeniable.\n",
       "\n",
       "To my surprise, the delivery of this product exceeded my expectations. It arrived a day earlier than the estimated delivery date, allowing me to indulge in some playtime with the panda before presenting it to my daughter. This unexpected bonus added to the overall excitement and anticipation surrounding the gift.\n",
       "\n",
       "In conclusion, this panda plush toy is a delightful gift that transcends age boundaries. Its softness, cuteness, and undeniable charm make it a perfect companion for anyone. While there may be other options available in terms of size, the quality and timely delivery of this product make it a worthwhile purchase. So, whether you're a child or a child at heart, this panda plush toy is sure to bring joy and warmth to your life."
      ],
      "text/plain": [
       "<IPython.core.display.Markdown object>"
      ]
     },
     "metadata": {},
     "output_type": "display_data"
    }
   ],
   "source": [
    "prompt = f\"\"\"\n",
    "proofread and correct this review. Make it more compelling. \n",
    "Ensure it follows APA style guide and targets an advanced reader. \n",
    "Output in markdown format.\n",
    "Text: ```{text}```\n",
    "\"\"\"\n",
    "\n",
    "messages = [\n",
    "    {'role': 'user', 'content': prompt}\n",
    "]\n",
    "response, _ = chat_completion(messages)\n",
    "\n",
    "display(Markdown(response))"
   ]
  }
 ],
 "metadata": {
  "kernelspec": {
   "display_name": "mlenv",
   "language": "python",
   "name": "mlenv"
  },
  "language_info": {
   "codemirror_mode": {
    "name": "ipython",
    "version": 3
   },
   "file_extension": ".py",
   "mimetype": "text/x-python",
   "name": "python",
   "nbconvert_exporter": "python",
   "pygments_lexer": "ipython3",
   "version": "3.10.12"
  }
 },
 "nbformat": 4,
 "nbformat_minor": 5
}

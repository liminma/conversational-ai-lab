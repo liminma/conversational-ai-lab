{
 "cells": [
  {
   "cell_type": "raw",
   "id": "ad390f8c-aded-48f3-9246-07cf897db3c9",
   "metadata": {},
   "source": [
    "---\n",
    "title: 'Function calling with Mistral-7B-Instruct-v0.3'\n",
    "date: 2024-05-26\n",
    "categories: [Mistral, Function calling, Tabular data]\n",
    "toc: true\n",
    "highlight-style: github\n",
    "format:\n",
    "    html:\n",
    "        code-overflow: wrap\n",
    "bibliography: ../references.bib\n",
    "csl: ../ieee.csl\n",
    "jupyter: python3\n",
    "toc-depth: 4\n",
    "---"
   ]
  },
  {
   "cell_type": "code",
   "execution_count": 1,
   "id": "957e21ea-6d99-4bef-8e27-da077615aacd",
   "metadata": {},
   "outputs": [],
   "source": [
    "import json\n",
    "import os\n",
    "import sqlite3\n",
    "import torch\n",
    "\n",
    "from pathlib import Path\n",
    "\n",
    "from mistral_inference.model import Transformer\n",
    "from mistral_inference.generate import generate\n",
    "from mistral_common.tokens.tokenizers.mistral import MistralTokenizer\n",
    "from mistral_common.protocol.instruct.messages import UserMessage, ToolMessage, AssistantMessage, SystemMessage\n",
    "from mistral_common.protocol.instruct.request import ChatCompletionRequest\n",
    "from mistral_common.protocol.instruct.tool_calls import Function, Tool, ToolCall, FunctionCall"
   ]
  },
  {
   "cell_type": "markdown",
   "id": "b23d506d-2be7-4f86-b7be-a669b99be551",
   "metadata": {},
   "source": [
    "## 0. Download sqlite3 sample database `chinook`"
   ]
  },
  {
   "cell_type": "code",
   "execution_count": 2,
   "id": "d5055a01-f6ce-43a7-89ea-b959c937c539",
   "metadata": {},
   "outputs": [
    {
     "name": "stdout",
     "output_type": "stream",
     "text": [
      "--2024-05-26 14:35:19--  https://www.sqlitetutorial.net/wp-content/uploads/2018/03/chinook.zip\n",
      "Resolving www.sqlitetutorial.net (www.sqlitetutorial.net)... 172.64.80.1, 2606:4700:130:436c:6f75:6466:6c61:7265\n",
      "Connecting to www.sqlitetutorial.net (www.sqlitetutorial.net)|172.64.80.1|:443... connected.\n",
      "HTTP request sent, awaiting response... 200 OK\n",
      "Length: 305596 (298K) [application/zip]\n",
      "Saving to: ‘chinook.zip’\n",
      "\n",
      "chinook.zip         100%[===================>] 298.43K  --.-KB/s    in 0.006s  \n",
      "\n",
      "2024-05-26 14:35:19 (50.9 MB/s) - ‘chinook.zip’ saved [305596/305596]\n",
      "\n"
     ]
    }
   ],
   "source": [
    "!wget https://www.sqlitetutorial.net/wp-content/uploads/2018/03/chinook.zip"
   ]
  },
  {
   "cell_type": "code",
   "execution_count": 3,
   "id": "37a71d13-0622-49ca-ac11-0e9c1dc54517",
   "metadata": {},
   "outputs": [
    {
     "name": "stdout",
     "output_type": "stream",
     "text": [
      "Archive:  chinook.zip\n",
      "  inflating: chinook.db              \n"
     ]
    }
   ],
   "source": [
    "!unzip chinook.zip"
   ]
  },
  {
   "cell_type": "markdown",
   "id": "5f41e83f-6c0d-4533-95e6-b80471b76ce4",
   "metadata": {},
   "source": [
    "## 1. Load the model and its tokenizer"
   ]
  },
  {
   "cell_type": "code",
   "execution_count": 5,
   "id": "ddd2ca1e-a0be-4aff-ba54-9c86c21b0608",
   "metadata": {
    "scrolled": true
   },
   "outputs": [],
   "source": [
    "mistral_models_path = Path.home().joinpath('.cache/huggingface/hub/mistral_models/7B-Instruct-v0.3')\n",
    "tokenizer = MistralTokenizer.from_file(f'{mistral_models_path}/tokenizer.model.v3')\n",
    "model = Transformer.from_folder(mistral_models_path, dtype=torch.float16)"
   ]
  },
  {
   "cell_type": "markdown",
   "id": "8804fd23-60b5-442f-a960-de5ab76157e6",
   "metadata": {},
   "source": [
    "## 2. Define function tools and some helper functions"
   ]
  },
  {
   "cell_type": "code",
   "execution_count": 6,
   "id": "05213ebd-3507-4c9c-a473-842bc8afdd07",
   "metadata": {},
   "outputs": [],
   "source": [
    "# \n",
    "# helper functions\n",
    "# \n",
    "def format_prompt(messages, tokenizer=tokenizer, tools=None):\n",
    "    completion_request = ChatCompletionRequest(\n",
    "        tools=tools,\n",
    "        messages=messages\n",
    "    )\n",
    "    tokenized = tokenizer.encode_chat_completion(completion_request)\n",
    "    return tokenized.tokens, tokenized.text\n",
    "\n",
    "def ask_llm(messages, tools=None, model=model, tokenizer=tokenizer, max_tokens=512, temperature=0.0):\n",
    "    tokens, formatted_prompt = format_prompt(messages, tools=tools)\n",
    "    output_tokens, _ = generate([tokens], model, max_tokens=max_tokens, temperature=temperature, eos_id=tokenizer.instruct_tokenizer.tokenizer.eos_id)\n",
    "    result = tokenizer.instruct_tokenizer.tokenizer.decode(output_tokens[0])\n",
    "    return result, formatted_prompt\n",
    "\n",
    "def call_tool(response):\n",
    "    toolcall = json.loads(response)[0]\n",
    "    fn = name_fn_mappings[toolcall['name']]\n",
    "    fn_results = fn(**toolcall['arguments'])\n",
    "    return fn_results, toolcall\n",
    "\n",
    "# \n",
    "# functions to be used as tools\n",
    "# \n",
    "def search_customer_support(customer_firstname: str, customer_lastname) -> list[tuple[str, str, int]]|None:\n",
    "    \"\"\"search customers table and return firstname, lastname and support representative id.\"\"\"\n",
    "    stmt = (\n",
    "        \"SELECT FirstName, LastName, SupportRepid FROM customers \"\n",
    "        f\"WHERE FirstName LIKE '%{customer_firstname}%' and LastName LIKE '%{customer_lastname}%'\"\n",
    "    )\n",
    "    res = conn.execute(stmt).fetchall()\n",
    "    if len(res) == 0:\n",
    "        res = None\n",
    "    return res\n",
    "\n",
    "def search_employee(employee_id: int) -> list[tuple[str, str, str]]|None:\n",
    "    \"\"\"search employees table and return firstname, lastname and title.\"\"\"\n",
    "    stmt = (\n",
    "        \"SELECT FirstName, LastName, Title FROM employees \"\n",
    "        f\"WHERE Employeeid={employee_id}\"\n",
    "    )\n",
    "    res = conn.execute(stmt).fetchall()\n",
    "    if len(res) == 0:\n",
    "        res = None\n",
    "    return res"
   ]
  },
  {
   "cell_type": "code",
   "execution_count": 7,
   "id": "40639890-6c52-45e6-9835-6c6029b24963",
   "metadata": {},
   "outputs": [],
   "source": [
    "name_fn_mappings = {\n",
    "    'search_customer_support': search_customer_support,\n",
    "    'search_employee': search_employee\n",
    "}\n",
    "\n",
    "tools=[\n",
    "    Tool(\n",
    "        function=Function(\n",
    "            name=\"search_customer_support\",\n",
    "            description=\"Useful when you want to find out who provided support to a customer.\",\n",
    "            parameters={\n",
    "                \"type\": \"object\",\n",
    "                \"properties\": {\n",
    "                    \"customer_firstname\": {\n",
    "                        \"type\": \"string\",\n",
    "                        \"description\": \"A customer's first name.\"\n",
    "                    },\n",
    "                    \"customer_lastname\": {\n",
    "                        \"type\": \"string\",\n",
    "                        \"description\": \"A customer's last name.\"\n",
    "                    }\n",
    "                },\n",
    "                \"required\": [\"customer_firstname\", \"customer_lastname\"]\n",
    "            }\n",
    "        )\n",
    "    ),\n",
    "    Tool(\n",
    "        function=Function(\n",
    "            name=\"search_employee\",\n",
    "            description=\"Useful when you want to retrieve more information about an employee.\",\n",
    "            parameters={\n",
    "                \"type\": \"object\",\n",
    "                \"properties\": {\n",
    "                    \"employee_id\": {\n",
    "                        \"type\": \"integer\",\n",
    "                        \"description\": \"employee's id\"\n",
    "                    }\n",
    "                },\n",
    "                \"required\": [\"employee_id\"]\n",
    "            }\n",
    "        )\n",
    "    )    \n",
    "]"
   ]
  },
  {
   "cell_type": "markdown",
   "id": "962bc580-2334-451a-bef3-a8f18d4b1f43",
   "metadata": {},
   "source": [
    "## 3. Run query with function calling"
   ]
  },
  {
   "cell_type": "markdown",
   "id": "89ce3ead-9c60-46c7-ba9c-65657221db06",
   "metadata": {},
   "source": [
    "### 3.1. open database connection"
   ]
  },
  {
   "cell_type": "code",
   "execution_count": 8,
   "id": "95639e88-d696-47b1-85d0-c02dc3eb6b44",
   "metadata": {},
   "outputs": [],
   "source": [
    "conn = sqlite3.connect('chinook.db')"
   ]
  },
  {
   "cell_type": "markdown",
   "id": "11bdc791-484d-4ac0-b871-de255e25c427",
   "metadata": {},
   "source": [
    "### 3.2. run queries"
   ]
  },
  {
   "cell_type": "code",
   "execution_count": 9,
   "id": "f1d9233d-d9a7-4427-bcd8-91987140ad77",
   "metadata": {},
   "outputs": [
    {
     "name": "stdout",
     "output_type": "stream",
     "text": [
      "<s>[AVAILABLE_TOOLS]▁[{\"type\":▁\"function\",▁\"function\":▁{\"name\":▁\"search_customer_support\",▁\"description\":▁\"Useful▁when▁you▁want▁to▁find▁out▁who▁provided▁support▁to▁a▁customer.\",▁\"parameters\":▁{\"type\":▁\"object\",▁\"properties\":▁{\"customer_firstname\":▁{\"type\":▁\"string\",▁\"description\":▁\"A▁customer's▁first▁name.\"},▁\"customer_lastname\":▁{\"type\":▁\"string\",▁\"description\":▁\"A▁customer's▁last▁name.\"}},▁\"required\":▁[\"customer_firstname\",▁\"customer_lastname\"]}}},▁{\"type\":▁\"function\",▁\"function\":▁{\"name\":▁\"search_employee\",▁\"description\":▁\"Useful▁when▁you▁want▁to▁retrieve▁more▁information▁about▁an▁employee.\",▁\"parameters\":▁{\"type\":▁\"object\",▁\"properties\":▁{\"employee_id\":▁{\"type\":▁\"integer\",▁\"description\":▁\"employee's▁id\"}},▁\"required\":▁[\"employee_id\"]}}}][/AVAILABLE_TOOLS][INST]▁Your▁task▁is▁to▁answer▁user's▁questions.▁If▁you▁need▁to▁use▁tools▁multiple▁times▁in▁order▁to▁answer▁a▁question,▁only▁respond▁the▁first▁tool▁call.▁Format▁your▁ourput▁in▁a▁valid▁JSON▁format▁so▁that▁a▁python▁function▁can▁consume▁it.<0x0A><0x0A>Get▁the▁fristname▁and▁lastname▁of▁the▁employee▁who▁provided▁customer▁support▁to▁Stanisław▁Wójcik.[/INST]\n"
     ]
    },
    {
     "data": {
      "text/plain": [
       "'[{\"name\": \"search_customer_support\", \"arguments\": {\"customer_firstname\": \"Stanisław\", \"customer_lastname\": \"Wójcik\"}}]'"
      ]
     },
     "execution_count": 9,
     "metadata": {},
     "output_type": "execute_result"
    }
   ],
   "source": [
    "messages=[\n",
    "    SystemMessage(\n",
    "        content=(\n",
    "            \"Your task is to answer user's questions. \"\n",
    "            \"If you need to use tools multiple times in order to answer a question, \"\n",
    "            \"only respond the first tool call. \"\n",
    "            \"Format your ourput in a valid JSON format so that a python function can consume it.\"\n",
    "        )\n",
    "    ),\n",
    "    UserMessage(\n",
    "        content=\"Get the fristname and lastname of the employee who provided customer support to Stanisław Wójcik.\"\n",
    "    )\n",
    "]\n",
    "response, formatted_prompt = ask_llm(messages, tools)\n",
    "print(formatted_prompt)\n",
    "response"
   ]
  },
  {
   "cell_type": "code",
   "execution_count": 10,
   "id": "e80f49c1-f037-4f2a-b55e-528aec6b953f",
   "metadata": {},
   "outputs": [
    {
     "name": "stdout",
     "output_type": "stream",
     "text": [
      "{'name': 'search_customer_support', 'arguments': {'customer_firstname': 'Stanisław', 'customer_lastname': 'Wójcik'}}\n"
     ]
    },
    {
     "data": {
      "text/plain": [
       "[('Stanisław', 'Wójcik', 4)]"
      ]
     },
     "execution_count": 10,
     "metadata": {},
     "output_type": "execute_result"
    }
   ],
   "source": [
    "fn_results, toolcall = call_tool(response)\n",
    "print(toolcall)\n",
    "fn_results"
   ]
  },
  {
   "cell_type": "code",
   "execution_count": 11,
   "id": "05309114-33ef-4750-b0dc-25e6a7724304",
   "metadata": {},
   "outputs": [
    {
     "name": "stdout",
     "output_type": "stream",
     "text": [
      "<s>[AVAILABLE_TOOLS]▁[{\"type\":▁\"function\",▁\"function\":▁{\"name\":▁\"search_customer_support\",▁\"description\":▁\"Useful▁when▁you▁want▁to▁find▁out▁who▁provided▁support▁to▁a▁customer.\",▁\"parameters\":▁{\"type\":▁\"object\",▁\"properties\":▁{\"customer_firstname\":▁{\"type\":▁\"string\",▁\"description\":▁\"A▁customer's▁first▁name.\"},▁\"customer_lastname\":▁{\"type\":▁\"string\",▁\"description\":▁\"A▁customer's▁last▁name.\"}},▁\"required\":▁[\"customer_firstname\",▁\"customer_lastname\"]}}},▁{\"type\":▁\"function\",▁\"function\":▁{\"name\":▁\"search_employee\",▁\"description\":▁\"Useful▁when▁you▁want▁to▁retrieve▁more▁information▁about▁an▁employee.\",▁\"parameters\":▁{\"type\":▁\"object\",▁\"properties\":▁{\"employee_id\":▁{\"type\":▁\"integer\",▁\"description\":▁\"employee's▁id\"}},▁\"required\":▁[\"employee_id\"]}}}][/AVAILABLE_TOOLS][INST]▁Your▁task▁is▁to▁answer▁user's▁questions.▁If▁you▁need▁to▁use▁tools▁multiple▁times▁in▁order▁to▁answer▁a▁question,▁only▁respond▁the▁first▁tool▁call.▁Format▁your▁ourput▁in▁a▁valid▁JSON▁format▁so▁that▁a▁python▁function▁can▁consume▁it.<0x0A><0x0A>Get▁the▁fristname▁and▁lastname▁of▁the▁employee▁who▁provided▁customer▁support▁to▁Stanisław▁Wójcik.[/INST][TOOL_CALLS]▁[{\"name\":▁\"search_customer_support\",▁\"arguments\":▁{\"customer_firstname\":▁\"Stanisław\",▁\"customer_lastname\":▁\"Wójcik\"}}]</s>[TOOL_RESULTS]▁{\"content\":▁{\"employee_id\":▁4},▁\"call_id\":▁\"abcdefghi\"}[/TOOL_RESULTS]\n"
     ]
    },
    {
     "data": {
      "text/plain": [
       "\"The employee who provided support to Stanisław Wójcik is employee with id 4. To get more information about this employee, you can use the search_employee function with the employee's id 4.\""
      ]
     },
     "execution_count": 11,
     "metadata": {},
     "output_type": "execute_result"
    }
   ],
   "source": [
    "messages.append(\n",
    "    AssistantMessage(\n",
    "        tool_calls=[\n",
    "            ToolCall(function=FunctionCall(**toolcall))\n",
    "        ]\n",
    "    )\n",
    ")\n",
    "messages.append(\n",
    "    ToolMessage(\n",
    "        content=json.dumps({\"employee_id\": fn_results[0][-1]}),\n",
    "        tool_call_id='abcdefghi',\n",
    "        name=toolcall['name']\n",
    "    )\n",
    ")\n",
    "response, formatted_prompt = ask_llm(messages, tools)\n",
    "print(formatted_prompt)\n",
    "response"
   ]
  },
  {
   "cell_type": "code",
   "execution_count": 12,
   "id": "62ef7a4b-4c68-4ceb-ac69-3620f65882e4",
   "metadata": {},
   "outputs": [
    {
     "name": "stdout",
     "output_type": "stream",
     "text": [
      "<s>[INST]▁Get▁the▁fristname▁and▁lastname▁of▁the▁employee▁who▁provided▁customer▁support▁to▁Stanisław▁Wójcik.[/INST][TOOL_CALLS]▁[{\"name\":▁\"search_customer_support\",▁\"arguments\":▁{\"customer_firstname\":▁\"Stanisław\",▁\"customer_lastname\":▁\"Wójcik\"}}]</s>[TOOL_RESULTS]▁{\"content\":▁{\"employee_id\":▁4},▁\"call_id\":▁\"abcdefghi\"}[/TOOL_RESULTS]▁The▁employee▁who▁provided▁support▁to▁Stanisław▁Wójcik▁is▁employee▁with▁id▁4.▁To▁get▁more▁information▁about▁this▁employee,▁you▁can▁use▁the▁search_employee▁function▁with▁the▁employee's▁id▁4.</s>[AVAILABLE_TOOLS]▁[{\"type\":▁\"function\",▁\"function\":▁{\"name\":▁\"search_customer_support\",▁\"description\":▁\"Useful▁when▁you▁want▁to▁find▁out▁who▁provided▁support▁to▁a▁customer.\",▁\"parameters\":▁{\"type\":▁\"object\",▁\"properties\":▁{\"customer_firstname\":▁{\"type\":▁\"string\",▁\"description\":▁\"A▁customer's▁first▁name.\"},▁\"customer_lastname\":▁{\"type\":▁\"string\",▁\"description\":▁\"A▁customer's▁last▁name.\"}},▁\"required\":▁[\"customer_firstname\",▁\"customer_lastname\"]}}},▁{\"type\":▁\"function\",▁\"function\":▁{\"name\":▁\"search_employee\",▁\"description\":▁\"Useful▁when▁you▁want▁to▁retrieve▁more▁information▁about▁an▁employee.\",▁\"parameters\":▁{\"type\":▁\"object\",▁\"properties\":▁{\"employee_id\":▁{\"type\":▁\"integer\",▁\"description\":▁\"employee's▁id\"}},▁\"required\":▁[\"employee_id\"]}}}][/AVAILABLE_TOOLS][INST]▁Your▁task▁is▁to▁answer▁user's▁questions.▁If▁you▁need▁to▁use▁tools▁multiple▁times▁in▁order▁to▁answer▁a▁question,▁only▁respond▁the▁first▁tool▁call.▁Format▁your▁ourput▁in▁a▁valid▁JSON▁format▁so▁that▁a▁python▁function▁can▁consume▁it.<0x0A><0x0A>Given▁the▁above▁tool▁results,▁answer▁the▁original▁question.[/INST]\n"
     ]
    },
    {
     "data": {
      "text/plain": [
       "'[{\"name\": \"search_employee\", \"arguments\": {\"employee_id\": 4}}]'"
      ]
     },
     "execution_count": 12,
     "metadata": {},
     "output_type": "execute_result"
    }
   ],
   "source": [
    "messages.append(AssistantMessage(content=response))\n",
    "messages.append(UserMessage(content=('Given the above tool results, answer the original question.')))\n",
    "\n",
    "response, formatted_prompt = ask_llm(messages, tools)\n",
    "print(formatted_prompt)\n",
    "response"
   ]
  },
  {
   "cell_type": "code",
   "execution_count": 13,
   "id": "e66fde9c-fac1-4f34-93a3-6ee927ccde53",
   "metadata": {},
   "outputs": [
    {
     "name": "stdout",
     "output_type": "stream",
     "text": [
      "{'name': 'search_employee', 'arguments': {'employee_id': 4}}\n"
     ]
    },
    {
     "data": {
      "text/plain": [
       "[('Margaret', 'Park', 'Sales Support Agent')]"
      ]
     },
     "execution_count": 13,
     "metadata": {},
     "output_type": "execute_result"
    }
   ],
   "source": [
    "fn_results, toolcall = call_tool(response)\n",
    "print(toolcall)\n",
    "fn_results"
   ]
  },
  {
   "cell_type": "code",
   "execution_count": 14,
   "id": "0cb66fbe-df16-4495-aff6-2f30b70db026",
   "metadata": {},
   "outputs": [
    {
     "name": "stdout",
     "output_type": "stream",
     "text": [
      "<s>[INST]▁Get▁the▁fristname▁and▁lastname▁of▁the▁employee▁who▁provided▁customer▁support▁to▁Stanisław▁Wójcik.[/INST][TOOL_CALLS]▁[{\"name\":▁\"search_customer_support\",▁\"arguments\":▁{\"customer_firstname\":▁\"Stanisław\",▁\"customer_lastname\":▁\"Wójcik\"}}]</s>[TOOL_RESULTS]▁{\"content\":▁{\"employee_id\":▁4},▁\"call_id\":▁\"abcdefghi\"}[/TOOL_RESULTS]▁The▁employee▁who▁provided▁support▁to▁Stanisław▁Wójcik▁is▁employee▁with▁id▁4.▁To▁get▁more▁information▁about▁this▁employee,▁you▁can▁use▁the▁search_employee▁function▁with▁the▁employee's▁id▁4.</s>[AVAILABLE_TOOLS]▁[{\"type\":▁\"function\",▁\"function\":▁{\"name\":▁\"search_customer_support\",▁\"description\":▁\"Useful▁when▁you▁want▁to▁find▁out▁who▁provided▁support▁to▁a▁customer.\",▁\"parameters\":▁{\"type\":▁\"object\",▁\"properties\":▁{\"customer_firstname\":▁{\"type\":▁\"string\",▁\"description\":▁\"A▁customer's▁first▁name.\"},▁\"customer_lastname\":▁{\"type\":▁\"string\",▁\"description\":▁\"A▁customer's▁last▁name.\"}},▁\"required\":▁[\"customer_firstname\",▁\"customer_lastname\"]}}},▁{\"type\":▁\"function\",▁\"function\":▁{\"name\":▁\"search_employee\",▁\"description\":▁\"Useful▁when▁you▁want▁to▁retrieve▁more▁information▁about▁an▁employee.\",▁\"parameters\":▁{\"type\":▁\"object\",▁\"properties\":▁{\"employee_id\":▁{\"type\":▁\"integer\",▁\"description\":▁\"employee's▁id\"}},▁\"required\":▁[\"employee_id\"]}}}][/AVAILABLE_TOOLS][INST]▁Your▁task▁is▁to▁answer▁user's▁questions.▁If▁you▁need▁to▁use▁tools▁multiple▁times▁in▁order▁to▁answer▁a▁question,▁only▁respond▁the▁first▁tool▁call.▁Format▁your▁ourput▁in▁a▁valid▁JSON▁format▁so▁that▁a▁python▁function▁can▁consume▁it.<0x0A><0x0A>Given▁the▁above▁tool▁results,▁answer▁the▁original▁question.[/INST][TOOL_CALLS]▁[{\"name\":▁\"search_employee\",▁\"arguments\":▁{\"employee_id\":▁4}}]</s>[TOOL_RESULTS]▁{\"content\":▁{\"employee_id\":▁[\"Margaret\",▁\"Park\",▁\"Sales▁Support▁Agent\"]},▁\"call_id\":▁\"abcdefghi\"}[/TOOL_RESULTS]\n"
     ]
    },
    {
     "data": {
      "text/plain": [
       "'The employee who provided support to Stanisław Wójcik is Margaret Park, a Sales Support Agent.'"
      ]
     },
     "execution_count": 14,
     "metadata": {},
     "output_type": "execute_result"
    }
   ],
   "source": [
    "messages.append(\n",
    "    AssistantMessage(\n",
    "        tool_calls=[\n",
    "            ToolCall(function=FunctionCall(**toolcall))\n",
    "        ]\n",
    "    )\n",
    ")\n",
    "messages.append(\n",
    "    ToolMessage(\n",
    "        content=json.dumps({\"employee_id\": fn_results[0]}),\n",
    "        tool_call_id='abcdefghi',\n",
    "        name=toolcall['name']\n",
    "    )\n",
    ")\n",
    "response, formatted_prompt = ask_llm(messages, tools)\n",
    "print(formatted_prompt)\n",
    "response"
   ]
  },
  {
   "cell_type": "markdown",
   "id": "83ddadcb-7a0d-4bd5-8831-af852b2779b8",
   "metadata": {},
   "source": [
    "## Close db connection"
   ]
  },
  {
   "cell_type": "code",
   "execution_count": 15,
   "id": "9ad27add-fb5e-4e21-abbc-1bd5fdac1492",
   "metadata": {},
   "outputs": [],
   "source": [
    "conn.close()"
   ]
  },
  {
   "cell_type": "code",
   "execution_count": null,
   "id": "1d13e69f-ae86-4c51-8a0a-6b5fed114283",
   "metadata": {},
   "outputs": [],
   "source": []
  }
 ],
 "metadata": {
  "kernelspec": {
   "display_name": "Python 3 (ipykernel)",
   "language": "python",
   "name": "python3"
  },
  "language_info": {
   "codemirror_mode": {
    "name": "ipython",
    "version": 3
   },
   "file_extension": ".py",
   "mimetype": "text/x-python",
   "name": "python",
   "nbconvert_exporter": "python",
   "pygments_lexer": "ipython3",
   "version": "3.11.4"
  }
 },
 "nbformat": 4,
 "nbformat_minor": 5
}

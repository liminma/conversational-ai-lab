{
 "cells": [
  {
   "cell_type": "raw",
   "id": "a198c7e2-8bce-47a4-9a74-3ea408a7cbd2",
   "metadata": {},
   "source": [
    "---\n",
    "title: 'Function calling with Mixtral-8x22B-Instruct-v0.1'\n",
    "date: 2024-05-29\n",
    "categories: [Mistral, Function calling, Tabular data]\n",
    "toc: true\n",
    "highlight-style: github\n",
    "format:\n",
    "    html:\n",
    "        code-overflow: wrap\n",
    "bibliography: ../references.bib\n",
    "csl: ../ieee.csl\n",
    "jupyter: python3\n",
    "toc-depth: 4\n",
    "---"
   ]
  },
  {
   "cell_type": "code",
   "execution_count": 1,
   "id": "d542b846-abf1-4126-adab-de60bb697d34",
   "metadata": {},
   "outputs": [],
   "source": [
    "import json\n",
    "import os\n",
    "import re\n",
    "import requests\n",
    "import sqlite3\n",
    "\n",
    "from pathlib import Path\n",
    "\n",
    "from transformers import AutoTokenizer\n",
    "from llama_index.llms.openai_like import OpenAILike\n",
    "\n",
    "from dotenv import load_dotenv\n",
    "load_dotenv();"
   ]
  },
  {
   "cell_type": "markdown",
   "id": "39bce6a6-af98-436e-a369-9d6b0ee614af",
   "metadata": {},
   "source": [
    "## Download sqlite3 sample database `chinook`"
   ]
  },
  {
   "cell_type": "code",
   "execution_count": 2,
   "id": "b008a0c9-03cb-4925-985a-b9cf32ac1144",
   "metadata": {},
   "outputs": [
    {
     "name": "stdout",
     "output_type": "stream",
     "text": [
      "--2024-05-29 18:03:16--  https://www.sqlitetutorial.net/wp-content/uploads/2018/03/chinook.zip\n",
      "Resolving www.sqlitetutorial.net (www.sqlitetutorial.net)... 172.64.80.1, 2606:4700:130:436c:6f75:6466:6c61:7265\n",
      "Connecting to www.sqlitetutorial.net (www.sqlitetutorial.net)|172.64.80.1|:443... connected.\n",
      "HTTP request sent, awaiting response... 200 OK\n",
      "Length: 305596 (298K) [application/zip]\n",
      "Saving to: ‘chinook.zip’\n",
      "\n",
      "chinook.zip         100%[===================>] 298.43K  --.-KB/s    in 0.007s  \n",
      "\n",
      "2024-05-29 18:03:16 (44.4 MB/s) - ‘chinook.zip’ saved [305596/305596]\n",
      "\n"
     ]
    }
   ],
   "source": [
    "!wget https://www.sqlitetutorial.net/wp-content/uploads/2018/03/chinook.zip"
   ]
  },
  {
   "cell_type": "code",
   "execution_count": 3,
   "id": "9e404eca-6adb-4412-8d50-1d271b887d0c",
   "metadata": {},
   "outputs": [
    {
     "name": "stdout",
     "output_type": "stream",
     "text": [
      "Archive:  chinook.zip\n",
      "  inflating: chinook.db              \n"
     ]
    }
   ],
   "source": [
    "!unzip chinook.zip"
   ]
  },
  {
   "cell_type": "markdown",
   "id": "001ea289-81d0-4296-a86d-c6e91d2fd55f",
   "metadata": {},
   "source": [
    "## Setup model and tokenizer"
   ]
  },
  {
   "cell_type": "code",
   "execution_count": 4,
   "id": "50ebe1cf-aefb-4efd-8d37-dba9a347c58d",
   "metadata": {},
   "outputs": [],
   "source": [
    "def get_model_name():\n",
    "    BASE_URL = os.environ['BASE_URL']\n",
    "    headers = {\n",
    "        'accept': 'application/json',\n",
    "        'x-api-key': os.environ['API_KEY']\n",
    "    }\n",
    "    res = requests.get(os.path.join(BASE_URL, 'model'), headers=headers).json()\n",
    "    if 'id' not in res:\n",
    "        raise Exception('Model not loaded.')\n",
    "    return res['id']"
   ]
  },
  {
   "cell_type": "code",
   "execution_count": 5,
   "id": "e3a995c5-cc70-4877-be3b-0b57c7d430ed",
   "metadata": {},
   "outputs": [
    {
     "name": "stdout",
     "output_type": "stream",
     "text": [
      "Mixtral-8x22B-Instruct-v0.1-exl2-4.0bpw\n"
     ]
    }
   ],
   "source": [
    "model_name = get_model_name()\n",
    "print(model_name)\n",
    "\n",
    "llm = OpenAILike(\n",
    "    model=model_name,\n",
    "    api_base=os.environ['BASE_URL'],\n",
    "    api_key=os.environ['API_KEY']\n",
    ")\n",
    "tokenizer = AutoTokenizer.from_pretrained('mistralai/Mixtral-8x22B-Instruct-v0.1')"
   ]
  },
  {
   "cell_type": "markdown",
   "id": "efb87980-e8b4-4f04-8cbc-1d03f2ca1239",
   "metadata": {},
   "source": [
    "## Setup function tools"
   ]
  },
  {
   "cell_type": "code",
   "execution_count": 6,
   "id": "19002349-f59e-4d8a-ba98-73a40cac2b39",
   "metadata": {},
   "outputs": [],
   "source": [
    "# \n",
    "# functions to be used as tools\n",
    "# \n",
    "def search_customer_support(customer_firstname: str, customer_lastname) -> list[tuple[str, str, int]]|None:\n",
    "    \"\"\"search customers table and return support representative id.\"\"\"\n",
    "    stmt = (\n",
    "        \"SELECT SupportRepid FROM customers \"\n",
    "        f\"WHERE FirstName LIKE '%{customer_firstname}%' and LastName LIKE '%{customer_lastname}%'\"\n",
    "    )\n",
    "    res = conn.execute(stmt).fetchall()\n",
    "    if len(res) == 0:\n",
    "        res = None\n",
    "    return res[0][0]\n",
    "\n",
    "def search_employee(employee_id: int) -> list[tuple[str, str, str]]|None:\n",
    "    \"\"\"search employees table and return firstname, lastname and title.\"\"\"\n",
    "    stmt = (\n",
    "        \"SELECT FirstName, LastName, Title FROM employees \"\n",
    "        f\"WHERE Employeeid={employee_id}\"\n",
    "    )\n",
    "    res = conn.execute(stmt).fetchall()\n",
    "    if len(res) == 0:\n",
    "        res = None\n",
    "    return res[0]"
   ]
  },
  {
   "cell_type": "code",
   "execution_count": 7,
   "id": "74b84797-78d0-4e75-a335-b4a0bc0a5ccb",
   "metadata": {},
   "outputs": [],
   "source": [
    "name_fn_mappings = {\n",
    "    'search_customer_support': search_customer_support,\n",
    "    'search_employee': search_employee\n",
    "}\n",
    "\n",
    "tools = [\n",
    "    {\"type\": \"function\",\n",
    "     \"function\": {\n",
    "         \"name\":\"search_customer_support\",\n",
    "         \"description\": \"Useful when you want to find out who provided support to a customer.\",\n",
    "         \"parameters\": {\n",
    "             \"type\": \"object\",\n",
    "             \"properties\": {\n",
    "                 \"customer_firstname\": {\n",
    "                     \"type\": \"string\",\n",
    "                     \"description\": \"A customer's first name.\"},\n",
    "                 \"customer_lastname\": {\n",
    "                     \"type\": \"string\",\n",
    "                     \"description\": \"A customer's last name.\"}\n",
    "                 },\n",
    "             \"required\":[\"customer_firstname\", \"customer_lastname\"]\n",
    "             }\n",
    "         }\n",
    "    },\n",
    "    {\"type\": \"function\",\n",
    "     \"function\": {\n",
    "         \"name\":\"search_employee\",\n",
    "         \"description\": \"Useful when you want to retrieve more information about an employee.\",\n",
    "         \"parameters\": {\n",
    "             \"type\": \"object\",\n",
    "             \"properties\": {\n",
    "                 \"employee_id\": {\n",
    "                     \"type\": \"integer\",\n",
    "                     \"description\": \"employee's id\"}\n",
    "                 },\n",
    "             \"required\":[\"employee_id\"]\n",
    "             }\n",
    "         }\n",
    "    }    \n",
    "]"
   ]
  },
  {
   "cell_type": "markdown",
   "id": "2058c0fd-4a0c-484f-a2dc-e4d925653ae6",
   "metadata": {},
   "source": [
    "## Run query with function calling"
   ]
  },
  {
   "cell_type": "code",
   "execution_count": 8,
   "id": "cf6c681b-1b1e-4ceb-af77-bd13d6bb7675",
   "metadata": {},
   "outputs": [],
   "source": [
    "def format_prompt(messages, tokenizer, use_tool=False, tools=None):\n",
    "    if use_tool:\n",
    "        if tools is None or len(tools)==0:\n",
    "            raise Exception('A list of tools is required for function calling.')\n",
    "        prompt = tokenizer.apply_chat_template(\n",
    "            messages,\n",
    "            chat_template='tool_use',\n",
    "            tools=json.dumps(tools),\n",
    "            tokenize=False,\n",
    "            add_generation_prompt=True)\n",
    "    else:\n",
    "        prompt = tokenizer.apply_chat_template(messages, tokenize=False, add_generation_prompt=True)\n",
    "    return prompt"
   ]
  },
  {
   "cell_type": "code",
   "execution_count": 9,
   "id": "edac91a3-49bb-42ec-916d-7bcfe04833eb",
   "metadata": {},
   "outputs": [],
   "source": [
    "def call_tool(toolcall):\n",
    "    fn = name_fn_mappings[toolcall['name']]\n",
    "    fn_results = fn(**toolcall['arguments'])\n",
    "    return fn_results\n",
    "\n",
    "def get_first_toolcall(response):\n",
    "    m = re.findall('(\\[\\{\\s*\"name\":.*\\}\\])+', response)\n",
    "    if len(m) > 0:\n",
    "        toolcalls = json.loads(m[0])\n",
    "        return toolcalls[0]\n",
    "    else:\n",
    "        return None\n",
    "\n",
    "def run_step(messages):\n",
    "    p = format_prompt(messages, tokenizer, True, tools)\n",
    "    response = llm.complete(p, formatted=True).text.strip()\n",
    "    return response, p\n",
    "\n",
    "def ask_llm(messages):\n",
    "    while True:\n",
    "        response, p = run_step(messages)\n",
    "        toolcall = get_first_toolcall(response)\n",
    "        if toolcall:\n",
    "            fn_results = call_tool(toolcall)\n",
    "            messages.append(\n",
    "                {'role': 'tool_calls', 'content': json.dumps([toolcall], ensure_ascii=False)}\n",
    "            )\n",
    "            messages.append(\n",
    "                {'role': 'tool_results', 'content': json.dumps({\"content\": fn_results}, ensure_ascii=False)}\n",
    "            )\n",
    "        else:\n",
    "            return response, p"
   ]
  },
  {
   "cell_type": "code",
   "execution_count": 10,
   "id": "59a68fec-b0f6-49b6-95d0-8d05ffb3f44b",
   "metadata": {},
   "outputs": [],
   "source": [
    "conn = sqlite3.connect('chinook.db')"
   ]
  },
  {
   "cell_type": "code",
   "execution_count": 11,
   "id": "7f06f18d-44da-4e93-b7e0-f6cc43e20233",
   "metadata": {},
   "outputs": [
    {
     "name": "stdout",
     "output_type": "stream",
     "text": [
      "<s>[AVAILABLE_TOOLS][{\"type\": \"function\", \"function\": {\"name\": \"search_customer_support\", \"description\": \"Useful when you want to find out who provided support to a customer.\", \"parameters\": {\"type\": \"object\", \"properties\": {\"customer_firstname\": {\"type\": \"string\", \"description\": \"A customer's first name.\"}, \"customer_lastname\": {\"type\": \"string\", \"description\": \"A customer's last name.\"}}, \"required\": [\"customer_firstname\", \"customer_lastname\"]}}}, {\"type\": \"function\", \"function\": {\"name\": \"search_employee\", \"description\": \"Useful when you want to retrieve more information about an employee.\", \"parameters\": {\"type\": \"object\", \"properties\": {\"employee_id\": {\"type\": \"integer\", \"description\": \"employee's id\"}}, \"required\": [\"employee_id\"]}}}][/AVAILABLE_TOOLS][INST]Get the firstname and lastname of the employee who provided customer support to Stanisław Wójcik.[/INST][TOOL_CALLS][{\"name\": \"search_customer_support\", \"arguments\": {\"customer_firstname\": \"Stanisław\", \"customer_lastname\": \"Wójcik\"}}]</s>[TOOL_RESULTS]{\"content\": 4}[/TOOL_RESULTS][TOOL_CALLS][{\"name\": \"search_employee\", \"arguments\": {\"employee_id\": 4}}]</s>[TOOL_RESULTS]{\"content\": [\"Margaret\", \"Park\", \"Sales Support Agent\"]}[/TOOL_RESULTS]\n"
     ]
    },
    {
     "data": {
      "text/plain": [
       "'The employee who provided customer support to Stanisław Wójcik is Margaret Park, a Sales Support Agent.'"
      ]
     },
     "execution_count": 11,
     "metadata": {},
     "output_type": "execute_result"
    }
   ],
   "source": [
    "messages=[\n",
    "    {'role': 'user',\n",
    "     'content': 'Get the firstname and lastname of the employee who provided customer support to Stanisław Wójcik.'}\n",
    "]\n",
    "response, prompt = ask_llm(messages)\n",
    "print(prompt)\n",
    "response"
   ]
  },
  {
   "cell_type": "code",
   "execution_count": 12,
   "id": "e138bfa8-fd3a-4ead-aefa-f66471b91de9",
   "metadata": {},
   "outputs": [],
   "source": [
    "conn.close()"
   ]
  },
  {
   "cell_type": "code",
   "execution_count": null,
   "id": "dc29b2e9-7249-4094-8276-9d784d99f56d",
   "metadata": {},
   "outputs": [],
   "source": []
  }
 ],
 "metadata": {
  "kernelspec": {
   "display_name": "Python 3 (ipykernel)",
   "language": "python",
   "name": "python3"
  },
  "language_info": {
   "codemirror_mode": {
    "name": "ipython",
    "version": 3
   },
   "file_extension": ".py",
   "mimetype": "text/x-python",
   "name": "python",
   "nbconvert_exporter": "python",
   "pygments_lexer": "ipython3",
   "version": "3.11.5"
  }
 },
 "nbformat": 4,
 "nbformat_minor": 5
}

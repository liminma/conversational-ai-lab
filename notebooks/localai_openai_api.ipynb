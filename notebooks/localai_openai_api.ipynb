{
 "cells": [
  {
   "cell_type": "markdown",
   "id": "9103723a-0825-4ffb-b23e-1f612f9aae39",
   "metadata": {},
   "source": [
    "# openai API with LocalAI\n",
    "\n",
    "Using `openai` API with locally running LLMs."
   ]
  },
  {
   "cell_type": "code",
   "execution_count": 1,
   "id": "04b976f4-ca6a-4dda-bb2e-d9a1090443dc",
   "metadata": {
    "tags": []
   },
   "outputs": [],
   "source": [
    "import time\n",
    "import openai"
   ]
  },
  {
   "cell_type": "code",
   "execution_count": 2,
   "id": "66e68a2f-ce98-4e7c-807b-3446f5271ed3",
   "metadata": {
    "tags": []
   },
   "outputs": [
    {
     "name": "stdout",
     "output_type": "stream",
     "text": [
      "{\"object\":\"list\",\"data\":[{\"id\":\"ggml-gpt4all-j.bin\",\"object\":\"model\"},{\"id\":\"ggml-gpt4all-l13b-snoozy.bin\",\"object\":\"model\"}]}"
     ]
    }
   ],
   "source": [
    "!curl http://localhost:8080/v1/models"
   ]
  },
  {
   "cell_type": "code",
   "execution_count": 3,
   "id": "9902136d-e09f-46ec-ad1b-556103f4f6de",
   "metadata": {
    "tags": []
   },
   "outputs": [
    {
     "name": "stdout",
     "output_type": "stream",
     "text": [
      "Stephen Hawking was a British theoretical physicist and cosmologist. He is best known for his work on the theory of black holes and quantum mechanics. He also made significant contributions to the development of particle accelerators and contributed greatly in advancing our understanding of the early universe. Hawking was diagnosed with amyotrophic lateral sclerosis (ALS) in 1963, which ultimately led to his death on March 14, 2018.\n",
      "\n",
      "Elapsed time: 25.541508208960295\n"
     ]
    }
   ],
   "source": [
    "openai.api_base = \"http://localhost:8080/v1\"\n",
    "openai.api_key = \"dummy api key\"\n",
    "model = \"ggml-gpt4all-j.bin\"\n",
    "prompt = \"Who is Stephen Hawking?\"\n",
    "\n",
    "start_time = time.perf_counter()\n",
    "\n",
    "response = openai.Completion.create(\n",
    "    model=model,\n",
    "    prompt=prompt,\n",
    "    max_tokens=100,\n",
    "    temperature=0.0)\n",
    "\n",
    "elapsed = time.perf_counter() - start_time\n",
    "\n",
    "\n",
    "print(response.choices[0].text)\n",
    "print(f'\\nElapsed time: {elapsed}')"
   ]
  },
  {
   "cell_type": "code",
   "execution_count": 14,
   "id": "e056f9ba-017d-414c-9da5-c598120d2606",
   "metadata": {
    "tags": []
   },
   "outputs": [
    {
     "name": "stdout",
     "output_type": "stream",
     "text": [
      "{\n",
      "  \"content\": \"Positive sentiment\",\n",
      "  \"role\": \"assistant\"\n",
      "}\n",
      "\n",
      "Elapsed time: 44.58546441048384\n"
     ]
    }
   ],
   "source": [
    "model = 'ggml-gpt4all-l13b-snoozy.bin'\n",
    "\n",
    "prompt = \"\"\"\n",
    "What is the sentiment of the following review delimited with triple backticks.\n",
    "\n",
    "```\n",
    "I bought a laptop last week. It arrived quickly, \\\n",
    "but had a minor issue. The company promptly replaced it, \\\n",
    "and the new one works perfectly. Impressed with their quick \\\n",
    "response and the laptop's performance.\n",
    "```\n",
    "\"\"\"\n",
    "\n",
    "start_time = time.perf_counter()\n",
    "\n",
    "chat_completion = openai.ChatCompletion.create(\n",
    "    model=model,\n",
    "    messages=[{\"role\": \"user\", \"content\": prompt}])\n",
    "\n",
    "elapsed = time.perf_counter() - start_time\n",
    "print(chat_completion.choices[0].message)\n",
    "print(f'\\nElapsed time: {elapsed}')"
   ]
  },
  {
   "cell_type": "code",
   "execution_count": null,
   "id": "84824500-e425-4de4-8e57-08d12a455f40",
   "metadata": {},
   "outputs": [],
   "source": []
  }
 ],
 "metadata": {
  "kernelspec": {
   "display_name": "venv",
   "language": "python",
   "name": "venv"
  },
  "language_info": {
   "codemirror_mode": {
    "name": "ipython",
    "version": 3
   },
   "file_extension": ".py",
   "mimetype": "text/x-python",
   "name": "python",
   "nbconvert_exporter": "python",
   "pygments_lexer": "ipython3",
   "version": "3.10.11"
  }
 },
 "nbformat": 4,
 "nbformat_minor": 5
}

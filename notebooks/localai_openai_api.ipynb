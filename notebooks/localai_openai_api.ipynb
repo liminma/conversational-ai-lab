{
 "cells": [
  {
   "cell_type": "markdown",
   "id": "9103723a-0825-4ffb-b23e-1f612f9aae39",
   "metadata": {},
   "source": [
    "# openai API with LocalAI\n",
    "\n",
    "Using `openai` API with locally running LLMs."
   ]
  },
  {
   "cell_type": "code",
   "execution_count": 2,
   "id": "04b976f4-ca6a-4dda-bb2e-d9a1090443dc",
   "metadata": {
    "tags": []
   },
   "outputs": [],
   "source": [
    "import time\n",
    "import openai"
   ]
  },
  {
   "cell_type": "code",
   "execution_count": 9,
   "id": "9902136d-e09f-46ec-ad1b-556103f4f6de",
   "metadata": {
    "tags": []
   },
   "outputs": [
    {
     "name": "stdout",
     "output_type": "stream",
     "text": [
      "Stephen Hawking was a renowned theoretical physicist, cosmologist and author who made groundbreaking contributions to our understanding of the universe, including the now famous theory of black holes and the discovery that black holes emit radiation. He was also known for his work on quantum mechanics, general relativity and the origins of the cosmos. Despite being diagnosed with a rare form of motor neuron disease at the age of 21, he continued to make important contributions to science until his death in 2018.\n",
      "\n",
      "Elapsed time: 62.64086055383086\n"
     ]
    }
   ],
   "source": [
    "openai.api_base = \"http://localhost:8080/v1\"\n",
    "openai.api_key = \"dummy api key\"\n",
    "model = \"nous-hermes-13b.ggmlv3.q4_0.bin\"\n",
    "prompt = \"Who is Stephen Hawking? Please write one paragraph.\"\n",
    "\n",
    "start_time = time.perf_counter()\n",
    "\n",
    "response = openai.Completion.create(\n",
    "    model=model,\n",
    "    prompt=prompt,\n",
    "    max_tokens=1000,\n",
    "    temperature=0.0\n",
    ")\n",
    "\n",
    "elapsed = time.perf_counter() - start_time\n",
    "\n",
    "\n",
    "print(response.choices[0].text)\n",
    "print(f'\\nElapsed time: {elapsed}')"
   ]
  },
  {
   "cell_type": "code",
   "execution_count": 11,
   "id": "de049774-2888-465f-b81b-c0b4334b8de0",
   "metadata": {
    "tags": []
   },
   "outputs": [
    {
     "name": "stdout",
     "output_type": "stream",
     "text": [
      "{\n",
      "  \"content\": \"Positive\",\n",
      "  \"role\": \"assistant\"\n",
      "}\n",
      "\n",
      "Elapsed time: 26.65933546423912\n"
     ]
    }
   ],
   "source": [
    "prompt = \"\"\"\n",
    "What is the sentiment of the following review delimited with triple backticks.\n",
    "\n",
    "Please limit your answer to one word.\n",
    "\n",
    "```\n",
    "I bought a laptop last week. It arrived quickly, \\\n",
    "but had a minor issue. The company promptly replaced it, \\\n",
    "and the new one works perfectly. Impressed with their quick \\\n",
    "response and the laptop's performance.\n",
    "```\n",
    "\"\"\"\n",
    "\n",
    "start_time = time.perf_counter()\n",
    "\n",
    "chat_completion = openai.ChatCompletion.create(\n",
    "    model=model,\n",
    "    messages=[{\"role\": \"user\", \"content\": prompt}])\n",
    "\n",
    "elapsed = time.perf_counter() - start_time\n",
    "\n",
    "print(chat_completion.choices[0].message)\n",
    "print(f'\\nElapsed time: {elapsed}')"
   ]
  },
  {
   "cell_type": "code",
   "execution_count": null,
   "id": "84824500-e425-4de4-8e57-08d12a455f40",
   "metadata": {},
   "outputs": [],
   "source": []
  }
 ],
 "metadata": {
  "kernelspec": {
   "display_name": "venv",
   "language": "python",
   "name": "venv"
  },
  "language_info": {
   "codemirror_mode": {
    "name": "ipython",
    "version": 3
   },
   "file_extension": ".py",
   "mimetype": "text/x-python",
   "name": "python",
   "nbconvert_exporter": "python",
   "pygments_lexer": "ipython3",
   "version": "3.10.11"
  }
 },
 "nbformat": 4,
 "nbformat_minor": 5
}

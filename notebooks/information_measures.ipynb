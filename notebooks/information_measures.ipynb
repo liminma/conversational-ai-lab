{
 "cells": [
  {
   "cell_type": "raw",
   "metadata": {},
   "source": [
    "---\n",
    "title: 'Information measures'\n",
    "date: 2022-08-17\n",
    "categories: [Information Theory]\n",
    "toc: true\n",
    "highlight-style: github\n",
    "format:\n",
    "    html:\n",
    "        code-overflow: wrap\n",
    "bibliography: ../references.bib\n",
    "csl: ../ieee.csl\n",
    "jupyter: python3\n",
    "---"
   ]
  },
  {
   "cell_type": "markdown",
   "metadata": {
    "id": "48elOBM-z1DT"
   },
   "source": [
    "# Information Measures\n",
    "\n",
    "A list of information measure formulas [@DBLP:journals/corr/abs-1802-05968]."
   ]
  },
  {
   "cell_type": "code",
   "execution_count": 1,
   "metadata": {
    "id": "I7Asr7WLy_NA"
   },
   "outputs": [],
   "source": [
    "import math\n",
    "import numpy as np\n",
    "import pandas as pd\n",
    "\n",
    "from scipy.stats import entropy"
   ]
  },
  {
   "cell_type": "code",
   "execution_count": 2,
   "metadata": {
    "colab": {
     "base_uri": "https://localhost:8080/",
     "height": 205
    },
    "id": "uw3ZtnsLHUJg",
    "outputId": "95689cbe-b9ac-4156-ec8b-d55f9f5d6df4"
   },
   "outputs": [
    {
     "data": {
      "text/html": [
       "<div>\n",
       "<style scoped>\n",
       "    .dataframe tbody tr th:only-of-type {\n",
       "        vertical-align: middle;\n",
       "    }\n",
       "\n",
       "    .dataframe tbody tr th {\n",
       "        vertical-align: top;\n",
       "    }\n",
       "\n",
       "    .dataframe thead th {\n",
       "        text-align: right;\n",
       "    }\n",
       "</style>\n",
       "<table border=\"1\" class=\"dataframe\">\n",
       "  <thead>\n",
       "    <tr style=\"text-align: right;\">\n",
       "      <th></th>\n",
       "      <th>X</th>\n",
       "      <th>Y</th>\n",
       "    </tr>\n",
       "  </thead>\n",
       "  <tbody>\n",
       "    <tr>\n",
       "      <th>0</th>\n",
       "      <td>neither agree nor disagree</td>\n",
       "      <td>male</td>\n",
       "    </tr>\n",
       "    <tr>\n",
       "      <th>1</th>\n",
       "      <td>strongly disagree</td>\n",
       "      <td>female</td>\n",
       "    </tr>\n",
       "    <tr>\n",
       "      <th>2</th>\n",
       "      <td>disagree</td>\n",
       "      <td>female</td>\n",
       "    </tr>\n",
       "    <tr>\n",
       "      <th>3</th>\n",
       "      <td>agree</td>\n",
       "      <td>female</td>\n",
       "    </tr>\n",
       "    <tr>\n",
       "      <th>4</th>\n",
       "      <td>neither agree nor disagree</td>\n",
       "      <td>female</td>\n",
       "    </tr>\n",
       "  </tbody>\n",
       "</table>\n",
       "</div>"
      ],
      "text/plain": [
       "                            X       Y\n",
       "0  neither agree nor disagree    male\n",
       "1           strongly disagree  female\n",
       "2                    disagree  female\n",
       "3                       agree  female\n",
       "4  neither agree nor disagree  female"
      ]
     },
     "execution_count": 2,
     "metadata": {},
     "output_type": "execute_result"
    }
   ],
   "source": [
    "# generate random samples\n",
    "rng = np.random.default_rng()\n",
    "x = rng.choice(['strongly agree', 'agree', 'neither agree nor disagree', 'disagree', 'strongly disagree'],\n",
    "               size = (1000,1),\n",
    "               p=[0.1, 0.3, 0.2, 0.3, 0.1])\n",
    "y = rng.choice(['female', 'male'],size = (1000,1))\n",
    "data = np.concatenate((x,y), axis=1)\n",
    "df = pd.DataFrame(data, columns=['X','Y'])\n",
    "df.head()"
   ]
  },
  {
   "cell_type": "code",
   "execution_count": 3,
   "metadata": {
    "colab": {
     "base_uri": "https://localhost:8080/"
    },
    "id": "bEyUPtUQX5Hu",
    "outputId": "c12934d0-fc22-482e-82d6-fe88d06b4fa6"
   },
   "outputs": [
    {
     "name": "stdout",
     "output_type": "stream",
     "text": [
      "X\n",
      "agree                         0.313\n",
      "disagree                      0.286\n",
      "neither agree nor disagree    0.198\n",
      "strongly disagree             0.102\n",
      "strongly agree                0.101\n",
      "Name: proportion, dtype: float64\n"
     ]
    }
   ],
   "source": [
    "# probablities of X\n",
    "P_X = df.X.value_counts(normalize=True)\n",
    "print(P_X)"
   ]
  },
  {
   "cell_type": "code",
   "execution_count": 4,
   "metadata": {
    "colab": {
     "base_uri": "https://localhost:8080/"
    },
    "id": "TlejyT4TX7gm",
    "outputId": "3a5f821e-7747-4a1b-84e4-3f101f122fd6"
   },
   "outputs": [
    {
     "name": "stdout",
     "output_type": "stream",
     "text": [
      "Y\n",
      "male      0.509\n",
      "female    0.491\n",
      "Name: proportion, dtype: float64\n"
     ]
    }
   ],
   "source": [
    "# probablities of Y\n",
    "P_Y = df.Y.value_counts(normalize=True)\n",
    "print(P_Y)"
   ]
  },
  {
   "cell_type": "code",
   "execution_count": 5,
   "metadata": {
    "colab": {
     "base_uri": "https://localhost:8080/"
    },
    "id": "EjVSNusiYW_j",
    "outputId": "bd38719c-a439-4c4a-a205-04e95c7bc2f0"
   },
   "outputs": [
    {
     "name": "stdout",
     "output_type": "stream",
     "text": [
      "X                           Y     \n",
      "agree                       female    0.149\n",
      "                            male      0.164\n",
      "disagree                    female    0.144\n",
      "                            male      0.142\n",
      "neither agree nor disagree  female    0.095\n",
      "                            male      0.103\n",
      "strongly agree              female    0.050\n",
      "                            male      0.051\n",
      "strongly disagree           female    0.053\n",
      "                            male      0.049\n",
      "Name: proportion, dtype: float64\n"
     ]
    }
   ],
   "source": [
    "# joint probabilities of X, Y\n",
    "P_XY = df.value_counts(['X','Y'], normalize=True, sort=False)\n",
    "print(P_XY)"
   ]
  },
  {
   "cell_type": "markdown",
   "metadata": {
    "id": "v3QMEevYzfih"
   },
   "source": [
    "## Entropy\n",
    "\n",
    "Given a discrete random variable $X$, the entropy of $X$ is:\n",
    "\n",
    "$$\n",
    "\\begin{equation}\n",
    "\\begin{split}\n",
    "H(X) & = - \\sum_{x \\in \\mathcal{X}} p(x) \\log p(x)\n",
    "\\end{split}\n",
    "\\end{equation}\n",
    "$$"
   ]
  },
  {
   "cell_type": "code",
   "execution_count": 6,
   "metadata": {},
   "outputs": [
    {
     "name": "stdout",
     "output_type": "stream",
     "text": [
      "2.1736058278387715 0.9997662707810439\n"
     ]
    }
   ],
   "source": [
    "# calculation using the above formula\n",
    "H_X = -sum(P_X * np.log2(P_X))\n",
    "H_Y = -sum(P_Y * np.log2(P_Y))\n",
    "\n",
    "print(H_X, H_Y)"
   ]
  },
  {
   "cell_type": "code",
   "execution_count": 7,
   "metadata": {
    "colab": {
     "base_uri": "https://localhost:8080/"
    },
    "id": "_ICD-f84tUT0",
    "outputId": "4c969e86-a7f4-43ec-98f6-c14b3cd15285"
   },
   "outputs": [
    {
     "name": "stdout",
     "output_type": "stream",
     "text": [
      "True\n",
      "True\n"
     ]
    }
   ],
   "source": [
    "# verify by scipy.stats.entropy\n",
    "print(math.isclose(H_X, entropy(P_X, base=2)))\n",
    "print(math.isclose(H_Y, entropy(P_Y, base=2)))"
   ]
  },
  {
   "cell_type": "markdown",
   "metadata": {
    "id": "0VZAZZTc0CPK"
   },
   "source": [
    "## Joint and Conditional Entropy\n",
    "Given two discrete random variables $X, Y$, the joint entropy of $X$ and $Y$ is:\n",
    "\n",
    "$$\n",
    "\\begin{equation}\n",
    "\\begin{split}\n",
    "H(X,Y) & = -\\sum_{x\\in \\mathcal{X}, y\\in \\mathcal{Y}} p(x,y)\\log p(x,y)\n",
    "\\end{split}\n",
    "\\end{equation}\n",
    "$$"
   ]
  },
  {
   "cell_type": "code",
   "execution_count": 8,
   "metadata": {
    "colab": {
     "base_uri": "https://localhost:8080/"
    },
    "id": "zDgcIVUDXoS1",
    "outputId": "8536c2fb-b7e3-457e-aa99-a4313ad79bf7"
   },
   "outputs": [
    {
     "name": "stdout",
     "output_type": "stream",
     "text": [
      "3.172723449704413\n"
     ]
    }
   ],
   "source": [
    "# calculation using the above formula\n",
    "H_XY = -sum(P_XY * np.log2(P_XY))\n",
    "print(H_XY)"
   ]
  },
  {
   "cell_type": "code",
   "execution_count": 9,
   "metadata": {
    "colab": {
     "base_uri": "https://localhost:8080/"
    },
    "id": "Lf1-8mqNZ_LS",
    "outputId": "78828f68-f0af-4548-99bc-035dfa881f02"
   },
   "outputs": [
    {
     "data": {
      "text/plain": [
       "True"
      ]
     },
     "execution_count": 9,
     "metadata": {},
     "output_type": "execute_result"
    }
   ],
   "source": [
    "# verify by scipy.stats.entropy method\n",
    "math.isclose(H_XY, entropy(P_XY, base=2))"
   ]
  },
  {
   "cell_type": "markdown",
   "metadata": {
    "id": "7BtkjOU9ZZhe"
   },
   "source": [
    "The conditional entropy of Y given X is:\n",
    "\n",
    "$$\n",
    "\\begin{equation}\n",
    "\\begin{split}\n",
    "H(Y|X) & =-\\sum_{x\\in \\mathcal{X}, y\\in \\mathcal{Y}} p(x,y) \\log p(y|x)\n",
    "\\end{split}\n",
    "\\end{equation}\n",
    "$$"
   ]
  },
  {
   "cell_type": "code",
   "execution_count": 10,
   "metadata": {
    "colab": {
     "base_uri": "https://localhost:8080/"
    },
    "id": "3ABr0F0UrXMC",
    "outputId": "d707d27d-8154-46ad-d7a9-22af1eb997b8"
   },
   "outputs": [
    {
     "name": "stdout",
     "output_type": "stream",
     "text": [
      "0.999117621865641\n"
     ]
    }
   ],
   "source": [
    "# compute using the formula; replace p(y|x) with p(x,y)/p(x)\n",
    "H_Y_X = -sum(P_XY[x,y] * np.log2(P_XY[x,y]/P_X[x])\n",
    "            for x in df.X.unique() for y in df.Y.unique())\n",
    "\n",
    "print(H_Y_X)"
   ]
  },
  {
   "cell_type": "markdown",
   "metadata": {
    "id": "wsNcnckFfK-g"
   },
   "source": [
    "The chain rule of entropy,\n",
    "\n",
    "$$\n",
    "\\begin{equation}\n",
    "\\begin{split}\n",
    "H(X,Y) & = H(X|Y) + H(Y) \\\\\n",
    "& = H(Y|X) + H(X) \\\\\n",
    "\\end{split}\n",
    "\\end{equation}\n",
    "$$"
   ]
  },
  {
   "cell_type": "code",
   "execution_count": 11,
   "metadata": {
    "colab": {
     "base_uri": "https://localhost:8080/"
    },
    "id": "cYnsovsDgbuI",
    "outputId": "f0d5a1f7-d7b8-42b2-8c40-ea775d0d62c9"
   },
   "outputs": [
    {
     "data": {
      "text/plain": [
       "True"
      ]
     },
     "execution_count": 11,
     "metadata": {},
     "output_type": "execute_result"
    }
   ],
   "source": [
    "# verify H(X,Y) = H(X|Y) + H(Y)\n",
    "math.isclose(H_XY, H_Y_X + H_X)"
   ]
  },
  {
   "cell_type": "markdown",
   "metadata": {
    "id": "Kkk8WCDf8ggf"
   },
   "source": [
    "## Mutual Information\n",
    "\n",
    "$$\n",
    "\\begin{equation}\n",
    "\\begin{split}\n",
    "I(X,Y) & = \\sum_{x \\in \\mathcal{X}, y \\in \\mathcal{Y}} p(x,y) \\log \\frac{p(x,y)}{p(x)p(y)} \\\\\n",
    "& = H(X) + H(Y) - H(X,Y) \\\\\n",
    "& = H(X) - H(X|Y) \\\\\n",
    "& = H(Y) - H(Y|X) \\\\\n",
    "& = H(X,Y) - H(X|Y) - H(Y|X)\n",
    "\\end{split}\n",
    "\\end{equation}\n",
    "$$\n",
    "\n"
   ]
  },
  {
   "cell_type": "code",
   "execution_count": 12,
   "metadata": {
    "colab": {
     "base_uri": "https://localhost:8080/"
    },
    "id": "sF73zD4hmfaK",
    "outputId": "34918718-94b0-4c12-e28a-d947b59b6781"
   },
   "outputs": [
    {
     "name": "stdout",
     "output_type": "stream",
     "text": [
      "0.0006486489154028196\n"
     ]
    }
   ],
   "source": [
    "# using the probability formula\n",
    "I_XY = sum(P_XY[x,y] * np.log2(P_XY[x,y] / (P_X[x] * P_Y[y]))\n",
    "           for x in df.X.unique() for y in df.Y.unique())\n",
    "\n",
    "print(I_XY)"
   ]
  },
  {
   "cell_type": "code",
   "execution_count": 13,
   "metadata": {
    "colab": {
     "base_uri": "https://localhost:8080/"
    },
    "id": "9w6Q8R6EMeQr",
    "outputId": "1ef3c744-8bb0-491c-ca27-2998e5585bd2"
   },
   "outputs": [
    {
     "data": {
      "text/plain": [
       "True"
      ]
     },
     "execution_count": 13,
     "metadata": {},
     "output_type": "execute_result"
    }
   ],
   "source": [
    "math.isclose(I_XY, H_X + H_Y - H_XY)"
   ]
  },
  {
   "cell_type": "code",
   "execution_count": 14,
   "metadata": {
    "colab": {
     "base_uri": "https://localhost:8080/"
    },
    "id": "a3Anb3g-qAE4",
    "outputId": "5f4a3346-424b-4a01-e607-ebcd665f3e8a"
   },
   "outputs": [
    {
     "data": {
      "text/plain": [
       "True"
      ]
     },
     "execution_count": 14,
     "metadata": {},
     "output_type": "execute_result"
    }
   ],
   "source": [
    "math.isclose(I_XY, H_Y - H_Y_X)"
   ]
  },
  {
   "cell_type": "code",
   "execution_count": null,
   "metadata": {
    "id": "O6e67t8HqC9e"
   },
   "outputs": [],
   "source": []
  }
 ],
 "metadata": {
  "colab": {
   "authorship_tag": "ABX9TyOZdMDSEajYuBrnGjMHeSdb",
   "collapsed_sections": [],
   "include_colab_link": true,
   "name": "information_measures.ipynb",
   "provenance": []
  },
  "kernelspec": {
   "display_name": "Python 3 (ipykernel)",
   "language": "python",
   "name": "python3"
  },
  "language_info": {
   "codemirror_mode": {
    "name": "ipython",
    "version": 3
   },
   "file_extension": ".py",
   "mimetype": "text/x-python",
   "name": "python",
   "nbconvert_exporter": "python",
   "pygments_lexer": "ipython3",
   "version": "3.11.4"
  }
 },
 "nbformat": 4,
 "nbformat_minor": 4
}

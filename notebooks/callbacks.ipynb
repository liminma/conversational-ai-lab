{
 "cells": [
  {
   "cell_type": "raw",
   "metadata": {},
   "source": [
    "---\n",
    "title: 'Keras callbacks'\n",
    "date: 2022-03-25\n",
    "categories: [TensorFlow]\n",
    "toc: true\n",
    "highlight-style: github\n",
    "format:\n",
    "    html:\n",
    "        code-overflow: wrap\n",
    "bibliography: ../references.bib\n",
    "csl: ../ieee.csl\n",
    "jupyter: python3\n",
    "---"
   ]
  },
  {
   "cell_type": "code",
   "execution_count": null,
   "metadata": {
    "id": "dcYmMHS3BWfr"
   },
   "outputs": [],
   "source": [
    "from tensorflow.keras import (datasets, callbacks, models, layers, optimizers, losses)"
   ]
  },
  {
   "cell_type": "markdown",
   "metadata": {
    "id": "qlG9U7GsB_6U"
   },
   "source": [
    "# Load fashion mnist data"
   ]
  },
  {
   "cell_type": "code",
   "execution_count": null,
   "metadata": {
    "id": "UsJ2ANWjBvCw"
   },
   "outputs": [],
   "source": [
    "f_mnist = datasets.fashion_mnist\n",
    "\n",
    "(x_train, y_train), (x_test, y_test) = f_mnist.load_data()\n",
    "x_train = x_train / 255.\n",
    "x_test = x_test / 255."
   ]
  },
  {
   "cell_type": "markdown",
   "metadata": {
    "id": "T_PwNA5wCpzW"
   },
   "source": [
    "# Create a callback class"
   ]
  },
  {
   "cell_type": "code",
   "execution_count": null,
   "metadata": {
    "id": "1mgg22y5C70n"
   },
   "outputs": [],
   "source": [
    "class MyCallback(callbacks.Callback):\n",
    "  def on_epoch_end(self, epoch, logs={}):\n",
    "    '''\n",
    "    This callback stop training when reaching 75% accuracy\n",
    "    '''\n",
    "    if (logs.get('acc') > 0.75):\n",
    "      print(f'\\nReached 75% accuracy. Terminating training ...')\n",
    "      self.model.stop_training = True"
   ]
  },
  {
   "cell_type": "markdown",
   "metadata": {
    "id": "YPKMMF3XEFOD"
   },
   "source": [
    "# Build the model"
   ]
  },
  {
   "cell_type": "code",
   "execution_count": null,
   "metadata": {
    "colab": {
     "base_uri": "https://localhost:8080/"
    },
    "id": "QnRKjYYmEBIz",
    "outputId": "f9405903-d545-4d5b-b1a8-12c46a036d66"
   },
   "outputs": [
    {
     "name": "stdout",
     "output_type": "stream",
     "text": [
      "Model: \"sequential\"\n",
      "_________________________________________________________________\n",
      " Layer (type)                Output Shape              Param #   \n",
      "=================================================================\n",
      " flatten (Flatten)           (None, 784)               0         \n",
      "                                                                 \n",
      " dense (Dense)               (None, 128)               100480    \n",
      "                                                                 \n",
      " dense_1 (Dense)             (None, 10)                1290      \n",
      "                                                                 \n",
      "=================================================================\n",
      "Total params: 101,770\n",
      "Trainable params: 101,770\n",
      "Non-trainable params: 0\n",
      "_________________________________________________________________\n"
     ]
    }
   ],
   "source": [
    "model = models.Sequential([layers.Input((28,28)),\n",
    "                           layers.Flatten(),\n",
    "                           layers.Dense(128, activation='relu'),\n",
    "                           layers.Dense(10, activation='softmax'),\n",
    "])\n",
    "\n",
    "model.compile(optimizer='adam', loss='sparse_categorical_crossentropy', metrics=['acc'])\n",
    "\n",
    "model.summary()"
   ]
  },
  {
   "cell_type": "markdown",
   "metadata": {
    "id": "LpgKHraDFE-V"
   },
   "source": [
    "# Train the model"
   ]
  },
  {
   "cell_type": "code",
   "execution_count": null,
   "metadata": {
    "colab": {
     "base_uri": "https://localhost:8080/"
    },
    "id": "dt4dUlPIE-bY",
    "outputId": "404d62e9-a15d-48d1-86aa-171e870057a8"
   },
   "outputs": [
    {
     "name": "stdout",
     "output_type": "stream",
     "text": [
      "Epoch 1/100\n",
      "1856/1875 [============================>.] - ETA: 0s - loss: 0.4953 - acc: 0.8254\n",
      "Reached 75% accuracy. Terminating training ...\n",
      "1875/1875 [==============================] - 6s 3ms/step - loss: 0.4945 - acc: 0.8257\n"
     ]
    },
    {
     "data": {
      "text/plain": [
       "<keras.callbacks.History at 0x7fe21dc819d0>"
      ]
     },
     "execution_count": 5,
     "metadata": {},
     "output_type": "execute_result"
    }
   ],
   "source": [
    "callback = MyCallback()\n",
    "\n",
    "model.fit(x_train, y_train, epochs=100, callbacks=[callback])"
   ]
  },
  {
   "cell_type": "code",
   "execution_count": null,
   "metadata": {
    "id": "__IoufByFkk9"
   },
   "outputs": [],
   "source": []
  }
 ],
 "metadata": {
  "colab": {
   "authorship_tag": "ABX9TyN07gzVoW1bVHlc/MPy8xF9",
   "include_colab_link": true,
   "name": "callbacks.ipynb",
   "provenance": []
  },
  "kernelspec": {
   "display_name": "Python 3 (ipykernel)",
   "language": "python",
   "name": "python3"
  },
  "language_info": {
   "codemirror_mode": {
    "name": "ipython",
    "version": 3
   },
   "file_extension": ".py",
   "mimetype": "text/x-python",
   "name": "python",
   "nbconvert_exporter": "python",
   "pygments_lexer": "ipython3",
   "version": "3.11.4"
  }
 },
 "nbformat": 4,
 "nbformat_minor": 4
}

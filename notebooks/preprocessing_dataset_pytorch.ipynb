{
 "cells": [
  {
   "cell_type": "code",
   "execution_count": 1,
   "id": "da7e0ba5-8429-417c-a61e-9c86f102fe1e",
   "metadata": {
    "tags": []
   },
   "outputs": [],
   "source": [
    "import torch\n",
    "from transformers import AutoTokenizer, DataCollatorWithPadding\n",
    "from torch.utils.data import DataLoader\n",
    "from datasets import load_dataset"
   ]
  },
  {
   "cell_type": "markdown",
   "id": "a117fbf5-3892-456c-b990-8e863721e53f",
   "metadata": {},
   "source": [
    "## load and explore the GLUE SST-2 dataset"
   ]
  },
  {
   "cell_type": "code",
   "execution_count": 7,
   "id": "6e587e47-f2cd-47e8-8c63-92ae9213693f",
   "metadata": {
    "tags": []
   },
   "outputs": [
    {
     "name": "stderr",
     "output_type": "stream",
     "text": [
      "Found cached dataset glue (/home/limin/.cache/huggingface/datasets/glue/sst2/1.0.0/dacbe3125aa31d7f70367a07a8a9e72a5a0bfeb5fc42e75c9db75b96da6053ad)\n"
     ]
    },
    {
     "data": {
      "application/vnd.jupyter.widget-view+json": {
       "model_id": "ad3477bf10724010bebcafe1d2c6f2a2",
       "version_major": 2,
       "version_minor": 0
      },
      "text/plain": [
       "  0%|          | 0/3 [00:00<?, ?it/s]"
      ]
     },
     "metadata": {},
     "output_type": "display_data"
    }
   ],
   "source": [
    "raw_datasets = load_dataset(\"glue\", \"sst2\")"
   ]
  },
  {
   "cell_type": "code",
   "execution_count": 8,
   "id": "39c8b987-838d-4b16-8b72-6d20148d5225",
   "metadata": {},
   "outputs": [
    {
     "data": {
      "text/plain": [
       "DatasetDict({\n",
       "    train: Dataset({\n",
       "        features: ['sentence', 'label', 'idx'],\n",
       "        num_rows: 67349\n",
       "    })\n",
       "    validation: Dataset({\n",
       "        features: ['sentence', 'label', 'idx'],\n",
       "        num_rows: 872\n",
       "    })\n",
       "    test: Dataset({\n",
       "        features: ['sentence', 'label', 'idx'],\n",
       "        num_rows: 1821\n",
       "    })\n",
       "})"
      ]
     },
     "execution_count": 8,
     "metadata": {},
     "output_type": "execute_result"
    }
   ],
   "source": [
    "raw_datasets"
   ]
  },
  {
   "cell_type": "code",
   "execution_count": 9,
   "id": "f8b64fe6-76f7-4ae5-ac32-2a74c878f242",
   "metadata": {},
   "outputs": [
    {
     "data": {
      "text/plain": [
       "{'sentence': Value(dtype='string', id=None),\n",
       " 'label': ClassLabel(names=['negative', 'positive'], id=None),\n",
       " 'idx': Value(dtype='int32', id=None)}"
      ]
     },
     "execution_count": 9,
     "metadata": {},
     "output_type": "execute_result"
    }
   ],
   "source": [
    "raw_datasets['train'].features"
   ]
  },
  {
   "cell_type": "markdown",
   "id": "299b4cf0-4a75-410e-81d7-715bbca7a31a",
   "metadata": {},
   "source": [
    "## use BERT tokenizer for tokenization\n",
    "\n",
    "tokenize the dataset using the `Dataset.map()` function"
   ]
  },
  {
   "cell_type": "code",
   "execution_count": 25,
   "id": "4a8b4012-d99c-4db9-90c8-7e52ca442bf8",
   "metadata": {
    "tags": []
   },
   "outputs": [
    {
     "name": "stderr",
     "output_type": "stream",
     "text": [
      "Loading cached processed dataset at /home/limin/.cache/huggingface/datasets/glue/sst2/1.0.0/dacbe3125aa31d7f70367a07a8a9e72a5a0bfeb5fc42e75c9db75b96da6053ad/cache-989431ea55d09aff.arrow\n",
      "Loading cached processed dataset at /home/limin/.cache/huggingface/datasets/glue/sst2/1.0.0/dacbe3125aa31d7f70367a07a8a9e72a5a0bfeb5fc42e75c9db75b96da6053ad/cache-dcfc5e44e548784f.arrow\n",
      "Loading cached processed dataset at /home/limin/.cache/huggingface/datasets/glue/sst2/1.0.0/dacbe3125aa31d7f70367a07a8a9e72a5a0bfeb5fc42e75c9db75b96da6053ad/cache-974d6c4aa35125e2.arrow\n"
     ]
    }
   ],
   "source": [
    "checkpoint = \"bert-base-uncased\"\n",
    "tokenizer = AutoTokenizer.from_pretrained(checkpoint)\n",
    "\n",
    "# no padding at this stage\n",
    "def f(x):\n",
    "    return tokenizer(x[\"sentence\"], truncation=True)\n",
    "\n",
    "tokenized_datasets = raw_datasets.map(f, batched=True).with_format('pytorch')"
   ]
  },
  {
   "cell_type": "code",
   "execution_count": 26,
   "id": "e8cd39f3-a8aa-4485-aa51-d721c4dda70d",
   "metadata": {
    "tags": []
   },
   "outputs": [
    {
     "data": {
      "text/plain": [
       "Dataset({\n",
       "    features: ['sentence', 'label', 'idx', 'input_ids', 'token_type_ids', 'attention_mask'],\n",
       "    num_rows: 67349\n",
       "})"
      ]
     },
     "execution_count": 26,
     "metadata": {},
     "output_type": "execute_result"
    }
   ],
   "source": [
    "train_dataset = tokenized_datasets['train']\n",
    "train_dataset"
   ]
  },
  {
   "cell_type": "code",
   "execution_count": 27,
   "id": "502a2a9f-44c0-4cff-8544-963b5dd844de",
   "metadata": {
    "tags": []
   },
   "outputs": [
    {
     "data": {
      "text/plain": [
       "Dataset({\n",
       "    features: ['label', 'input_ids', 'token_type_ids', 'attention_mask'],\n",
       "    num_rows: 67349\n",
       "})"
      ]
     },
     "execution_count": 27,
     "metadata": {},
     "output_type": "execute_result"
    }
   ],
   "source": [
    "# remove some columns\n",
    "\n",
    "train_dataset = train_dataset.remove_columns(['sentence', 'idx'])\n",
    "train_dataset"
   ]
  },
  {
   "cell_type": "code",
   "execution_count": 28,
   "id": "b817e384-2fea-4c03-9bcf-ebbec35c8bb6",
   "metadata": {
    "tags": []
   },
   "outputs": [
    {
     "data": {
      "text/plain": [
       "{'label': tensor(0),\n",
       " 'input_ids': tensor([  101,  5342,  2047,  3595,  8496,  2013,  1996, 18643,  3197,   102]),\n",
       " 'token_type_ids': tensor([0, 0, 0, 0, 0, 0, 0, 0, 0, 0]),\n",
       " 'attention_mask': tensor([1, 1, 1, 1, 1, 1, 1, 1, 1, 1])}"
      ]
     },
     "execution_count": 28,
     "metadata": {},
     "output_type": "execute_result"
    }
   ],
   "source": [
    "train_dataset[0]"
   ]
  },
  {
   "cell_type": "markdown",
   "id": "6653aebc-4b1a-4457-8d78-01a234282995",
   "metadata": {},
   "source": [
    "## use `DataCollatorWithPadding` for dynamic padding"
   ]
  },
  {
   "cell_type": "code",
   "execution_count": 29,
   "id": "39d2f84a-a982-405c-a0b6-aa54a3f409cd",
   "metadata": {
    "tags": []
   },
   "outputs": [],
   "source": [
    "data_collator = DataCollatorWithPadding(tokenizer=tokenizer)"
   ]
  },
  {
   "cell_type": "code",
   "execution_count": 30,
   "id": "30108fb7-30d7-49d9-9109-d52761dd4e9a",
   "metadata": {
    "tags": []
   },
   "outputs": [
    {
     "name": "stderr",
     "output_type": "stream",
     "text": [
      "You're using a BertTokenizerFast tokenizer. Please note that with a fast tokenizer, using the `__call__` method is faster than using a method to encode the text followed by a call to the `pad` method to get a padded encoding.\n"
     ]
    },
    {
     "name": "stdout",
     "output_type": "stream",
     "text": [
      "[10, 11, 15, 10, 22, 13, 29, 6, 13, 16]\n"
     ]
    },
    {
     "data": {
      "text/plain": [
       "{'input_ids': torch.Size([10, 29]),\n",
       " 'token_type_ids': torch.Size([10, 29]),\n",
       " 'attention_mask': torch.Size([10, 29]),\n",
       " 'labels': torch.Size([10])}"
      ]
     },
     "execution_count": 30,
     "metadata": {},
     "output_type": "execute_result"
    }
   ],
   "source": [
    "# try it with some samples\n",
    "samples = train_dataset[:10]\n",
    "print([len(x) for x in samples[\"input_ids\"]])\n",
    "\n",
    "batch = data_collator(samples)\n",
    "{k: v.shape for k, v in batch.items()}"
   ]
  },
  {
   "cell_type": "code",
   "execution_count": 31,
   "id": "da69577b-ef15-425a-ad14-5c241e8a52f5",
   "metadata": {
    "tags": []
   },
   "outputs": [],
   "source": [
    "# instantiate a train dataloader\n",
    "train_dataloader = DataLoader(train_dataset, batch_size=32, shuffle=True, collate_fn=data_collator)"
   ]
  },
  {
   "cell_type": "code",
   "execution_count": 65,
   "id": "c07f5a71-8369-4af6-a510-6848a9cba9d0",
   "metadata": {
    "tags": []
   },
   "outputs": [],
   "source": [
    "it = iter(train_dataloader)"
   ]
  },
  {
   "cell_type": "code",
   "execution_count": 66,
   "id": "8d5868eb-cfe9-41fd-af28-073eb4c9570d",
   "metadata": {
    "tags": []
   },
   "outputs": [
    {
     "name": "stdout",
     "output_type": "stream",
     "text": [
      "{'input_ids': torch.Size([32, 40]), 'token_type_ids': torch.Size([32, 40]), 'attention_mask': torch.Size([32, 40]), 'labels': torch.Size([32])}\n",
      "{'input_ids': torch.Size([32, 46]), 'token_type_ids': torch.Size([32, 46]), 'attention_mask': torch.Size([32, 46]), 'labels': torch.Size([32])}\n"
     ]
    }
   ],
   "source": [
    "for _ in range(2):\n",
    "    batch = next(it)\n",
    "    print({k: batch[k].shape for k in batch.keys()})"
   ]
  },
  {
   "cell_type": "markdown",
   "id": "820ddd08-1dbc-4721-b97b-9e0039c81212",
   "metadata": {
    "tags": []
   },
   "source": [
    "### how many batches?"
   ]
  },
  {
   "cell_type": "code",
   "execution_count": 73,
   "id": "e41ff599-137f-462a-bffa-a259aa443feb",
   "metadata": {
    "tags": []
   },
   "outputs": [
    {
     "data": {
      "text/plain": [
       "2105"
      ]
     },
     "execution_count": 73,
     "metadata": {},
     "output_type": "execute_result"
    }
   ],
   "source": [
    "len(list(train_dataloader))"
   ]
  },
  {
   "cell_type": "code",
   "execution_count": 74,
   "id": "36112b0d-1838-42ac-a5a3-0adb41f0486f",
   "metadata": {
    "tags": []
   },
   "outputs": [
    {
     "data": {
      "text/plain": [
       "2104.65625"
      ]
     },
     "execution_count": 74,
     "metadata": {},
     "output_type": "execute_result"
    }
   ],
   "source": [
    "train_dataset.num_rows / 32"
   ]
  },
  {
   "cell_type": "code",
   "execution_count": null,
   "id": "732a4ffe-14b2-4db5-9c93-12acfca5ba7f",
   "metadata": {},
   "outputs": [],
   "source": []
  }
 ],
 "metadata": {
  "kernelspec": {
   "display_name": "venv",
   "language": "python",
   "name": "venv"
  },
  "language_info": {
   "codemirror_mode": {
    "name": "ipython",
    "version": 3
   },
   "file_extension": ".py",
   "mimetype": "text/x-python",
   "name": "python",
   "nbconvert_exporter": "python",
   "pygments_lexer": "ipython3",
   "version": "3.10.11"
  }
 },
 "nbformat": 4,
 "nbformat_minor": 5
}

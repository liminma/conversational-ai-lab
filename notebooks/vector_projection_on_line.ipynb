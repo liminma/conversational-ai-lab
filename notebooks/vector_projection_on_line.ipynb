{
 "cells": [
  {
   "cell_type": "raw",
   "metadata": {},
   "source": [
    "---\n",
    "title: 'Vector projection on a line'\n",
    "date: 2021-11-17\n",
    "categories: [Linear Algebra, Visualization]\n",
    "toc: true\n",
    "highlight-style: github\n",
    "format:\n",
    "    html:\n",
    "        code-overflow: wrap\n",
    "bibliography: ../references.bib\n",
    "csl: ../ieee.csl\n",
    "jupyter: python3\n",
    "---"
   ]
  },
  {
   "cell_type": "code",
   "execution_count": 1,
   "metadata": {
    "id": "zC4sie1EP6nd"
   },
   "outputs": [],
   "source": [
    "import numpy as np\n",
    "import matplotlib.pyplot as plt"
   ]
  },
  {
   "cell_type": "markdown",
   "metadata": {
    "id": "yf9SIckMQKSs"
   },
   "source": [
    "## 1. A line $L$ defined by a normal vector $w$ and an offset $b$,\n",
    "\n",
    "$$\n",
    "L = \\{x \\in \\mathbb{R}^2: \\left<x, w\\right> + b = 0 \\}, where\\ w\\in\\mathbb{R}^2, b\\in\\mathbb{R}\n",
    "$$\n"
   ]
  },
  {
   "cell_type": "code",
   "execution_count": 2,
   "metadata": {
    "id": "XuFl84ejTGrN"
   },
   "outputs": [],
   "source": [
    "#\n",
    "# compute an orthogonal vector of an input vector\n",
    "#\n",
    "def orthogonal(u):\n",
    "  M = np.array([[0, -1], [1, 0]]) # rotation matrix of 90 degrees\n",
    "  return M @ u"
   ]
  },
  {
   "cell_type": "code",
   "execution_count": 3,
   "metadata": {
    "id": "Ua9SVv8IVPeG"
   },
   "outputs": [],
   "source": [
    "# \n",
    "# nomalize a vector\n",
    "#\n",
    "def normalize(u):\n",
    "  return u / np.linalg.norm(u)"
   ]
  },
  {
   "cell_type": "code",
   "execution_count": 4,
   "metadata": {
    "id": "L0qe5f6ATjio"
   },
   "outputs": [],
   "source": [
    "#\n",
    "# compute 10 points of a line defined by a normal vector and an offset\n",
    "# \n",
    "def line(w, b):\n",
    "  x0 = - b / (np.linalg.norm(w)**2) * w # a point on the line\n",
    "\n",
    "  ts = np.linspace(-10, 10, 10)\n",
    "  v = normalize(orthogonal(w)) # the direction unit vector of the line\n",
    "  points = np.array([v * t + x0 for t in ts])\n",
    "  return points"
   ]
  },
  {
   "cell_type": "code",
   "execution_count": 5,
   "metadata": {
    "id": "xVd4rJGLVkkK"
   },
   "outputs": [],
   "source": [
    "#\n",
    "# plot a line defined by w & b\n",
    "#\n",
    "def plot_line(w, b):\n",
    "  points = line(w, b)\n",
    "  plt.figure(figsize=(6,6))\n",
    "  plt.plot(points[:, 0], points[:, 1], '--')"
   ]
  },
  {
   "cell_type": "code",
   "execution_count": 6,
   "metadata": {
    "colab": {
     "base_uri": "https://localhost:8080/",
     "height": 374
    },
    "id": "_fnA6AKlVww8",
    "outputId": "83e08601-41b2-4094-a2f7-04e6481ced12"
   },
   "outputs": [
    {
     "data": {
      "image/png": "[encoded data removed]",
      "text/plain": [
       "<Figure size 432x432 with 1 Axes>"
      ]
     },
     "metadata": {
      "needs_background": "light"
     },
     "output_type": "display_data"
    }
   ],
   "source": [
    "w = np.array([1, -1])\n",
    "b = 2\n",
    "plot_line(w, b)"
   ]
  },
  {
   "cell_type": "markdown",
   "metadata": {
    "id": "QJc8B1WGYYRI"
   },
   "source": [
    "## 2. Vector projection on the line $L$"
   ]
  },
  {
   "cell_type": "code",
   "execution_count": 7,
   "metadata": {
    "id": "fZMArcwHejHb"
   },
   "outputs": [],
   "source": [
    "#\n",
    "# compute a rotation matrix of a given degree\n",
    "#\n",
    "def rotate(degree):\n",
    "  rad = np.radians(degree)\n",
    "  return np.array([[np.cos(rad), -np.sin(rad)], \\\n",
    "                   [np.sin(rad), np.cos(rad)]])"
   ]
  },
  {
   "cell_type": "code",
   "execution_count": 8,
   "metadata": {
    "colab": {
     "base_uri": "https://localhost:8080/",
     "height": 374
    },
    "id": "Xi2GBqyMXDSF",
    "outputId": "d42f8243-cd75-460d-e442-8c5be4c66f1f"
   },
   "outputs": [
    {
     "data": {
      "image/png": "[encoded data removed]",
      "text/plain": [
       "<Figure size 432x432 with 1 Axes>"
      ]
     },
     "metadata": {
      "needs_background": "light"
     },
     "output_type": "display_data"
    }
   ],
   "source": [
    "# some random points around the line L\n",
    "np.random.seed(0)\n",
    "X = np.random.randn(8, 2) \\\n",
    "  @ np.array([3, 0, 0, 2.5]).reshape(2,2) \\\n",
    "  @ rotate(60) \\\n",
    "  + np.array([-1.5, 3])\n",
    "\n",
    "plot_line(w,b)\n",
    "plt.scatter(X[:, 0], X[:, 1]);"
   ]
  },
  {
   "cell_type": "markdown",
   "metadata": {
    "id": "MuZxvVO20D_i"
   },
   "source": [
    "### 2.1 project a vector $u$ onto a vector $v$,\n",
    "\n",
    "$$\n",
    "\\mathbf{Proj}(u,v) = \\frac{\\left<u, v\\right>}{||v||^2}v\n",
    "$$\n",
    "\n",
    "### 2.2 project a vector $u$ onto a line $L$ defined by a normal vector $w$ and an offset $b$,\n",
    "\n",
    "$$\n",
    "\\begin{eqnarray*}\n",
    "u' &=& u - \\frac{-b}{||w||^2}w \\\\\n",
    "\\mathbf{Proj}(u', w) &=& \\frac{\\left<u',w\\right>}{||w||^2}w \\\\\n",
    "\\mathbf{Proj}_L(u) &=& u' - \\mathbf{Proj}(u', w) + \\frac{-b}{||w||^2}w\n",
    "\\end{eqnarray*}\n",
    "$$\n"
   ]
  },
  {
   "cell_type": "code",
   "execution_count": 9,
   "metadata": {
    "id": "mhEjm6ALb9lf"
   },
   "outputs": [],
   "source": [
    "#\n",
    "# compute the projection points on the line\n",
    "#\n",
    "def project(X, w, b):        \n",
    "    offset = -b/np.linalg.norm(w)**2 * w\n",
    "    X_offset = X - offset\n",
    "    w_unit = normalize(w)\n",
    "    X_offset_proj = X_offset - (X_offset @ w_unit[:, np.newaxis]) * w_unit\n",
    "    X_proj = X_offset_proj + offset\n",
    "    return X_proj"
   ]
  },
  {
   "cell_type": "code",
   "execution_count": 10,
   "metadata": {
    "colab": {
     "base_uri": "https://localhost:8080/",
     "height": 374
    },
    "id": "8tMejoG1fAOa",
    "outputId": "28e8b18c-6586-4925-cec5-9ee4e383456a"
   },
   "outputs": [
    {
     "data": {
      "image/png": "[encoded data removed]",
      "text/plain": [
       "<Figure size 432x432 with 1 Axes>"
      ]
     },
     "metadata": {
      "needs_background": "light"
     },
     "output_type": "display_data"
    }
   ],
   "source": [
    "Y = project(X, w, b) # compute projection points\n",
    "plot_line(w,b)\n",
    "plt.scatter(X[:, 0], X[:, 1])\n",
    "plt.scatter(Y[:, 0], Y[:, 1]);\n",
    "for x,y in zip(X, Y):\n",
    "  plt.plot([x[0],y[0]],[x[1],y[1]], 'r')"
   ]
  },
  {
   "cell_type": "code",
   "execution_count": null,
   "metadata": {
    "id": "Yt_J2lMw6Bgn"
   },
   "outputs": [],
   "source": []
  }
 ],
 "metadata": {
  "colab": {
   "authorship_tag": "ABX9TyMyjO4VNLZhJpevwXRDbj0g",
   "collapsed_sections": [],
   "include_colab_link": true,
   "name": "vector_projection_on_line.ipynb",
   "provenance": [],
   "toc_visible": true
  },
  "kernelspec": {
   "display_name": "Python 3 (ipykernel)",
   "language": "python",
   "name": "python3"
  },
  "language_info": {
   "codemirror_mode": {
    "name": "ipython",
    "version": 3
   },
   "file_extension": ".py",
   "mimetype": "text/x-python",
   "name": "python",
   "nbconvert_exporter": "python",
   "pygments_lexer": "ipython3",
   "version": "3.11.4"
  }
 },
 "nbformat": 4,
 "nbformat_minor": 4
}
